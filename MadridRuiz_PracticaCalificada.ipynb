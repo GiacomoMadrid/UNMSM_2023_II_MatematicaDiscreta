{
  "nbformat": 4,
  "nbformat_minor": 0,
  "metadata": {
    "colab": {
      "provenance": []
    },
    "kernelspec": {
      "name": "python3",
      "display_name": "Python 3"
    },
    "language_info": {
      "name": "python"
    }
  },
  "cells": [
    {
      "cell_type": "code",
      "source": [
        "#Pregunta 1:\n"
      ],
      "metadata": {
        "id": "isaDGHeWy-k6"
      },
      "execution_count": 51,
      "outputs": []
    },
    {
      "cell_type": "code",
      "execution_count": 52,
      "metadata": {
        "colab": {
          "base_uri": "https://localhost:8080/"
        },
        "id": "wMjXClYguWbF",
        "outputId": "1b979902-6e9b-46ec-d7a0-32557dab6704"
      },
      "outputs": [
        {
          "output_type": "stream",
          "name": "stdout",
          "text": [
            "Resultado de manera manual: 0.15503875968992248. Resultado segun la formula:0.15503875968992248\n",
            "Para n = 1\n",
            "0.06666666666666667 es igual a 0.06666666666666667, por tanto, sí cumple.\n",
            "Para n = 2\n",
            "0.09523809523809523 es igual a 0.09523809523809523, por tanto, sí cumple.\n",
            "Para n = 3\n",
            "0.1111111111111111 es igual a 0.1111111111111111, por tanto, sí cumple.\n",
            "Para n = 4\n",
            "0.1212121212121212 es igual a 0.12121212121212122, por tanto, sí cumple.\n",
            "Para n = 5\n",
            "0.1282051282051282 es igual a 0.1282051282051282, por tanto, sí cumple.\n",
            "Para n = 6\n",
            "0.13333333333333333 es igual a 0.13333333333333333, por tanto, sí cumple.\n",
            "Para n = 7\n",
            "0.13725490196078433 es igual a 0.13725490196078433, por tanto, sí cumple.\n",
            "Para n = 8\n",
            "0.14035087719298248 es igual a 0.14035087719298245, por tanto, sí cumple.\n",
            "Para n = 9\n",
            "0.14285714285714288 es igual a 0.14285714285714285, por tanto, sí cumple.\n",
            "Para n = 10\n",
            "0.1449275362318841 es igual a 0.14492753623188406, por tanto, sí cumple.\n",
            "Para n = 11\n",
            "0.1466666666666667 es igual a 0.14666666666666667, por tanto, sí cumple.\n",
            "Para n = 12\n",
            "0.14814814814814817 es igual a 0.14814814814814814, por tanto, sí cumple.\n",
            "Para n = 13\n",
            "0.14942528735632185 es igual a 0.14942528735632185, por tanto, sí cumple.\n",
            "Para n = 14\n",
            "0.15053763440860216 es igual a 0.15053763440860216, por tanto, sí cumple.\n",
            "Para n = 15\n",
            "0.15151515151515152 es igual a 0.15151515151515152, por tanto, sí cumple.\n",
            "Para n = 16\n",
            "0.1523809523809524 es igual a 0.1523809523809524, por tanto, sí cumple.\n",
            "Para n = 17\n",
            "0.15315315315315317 es igual a 0.15315315315315314, por tanto, sí cumple.\n",
            "Para n = 18\n",
            "0.15384615384615385 es igual a 0.15384615384615385, por tanto, sí cumple.\n",
            "Para n = 19\n",
            "0.15447154471544716 es igual a 0.15447154471544716, por tanto, sí cumple.\n",
            "Para n = 20\n",
            "0.15503875968992248 es igual a 0.15503875968992248, por tanto, sí cumple.\n"
          ]
        }
      ],
      "source": [
        "#Pregunta 2:\n",
        "\n",
        "numero = 20\n",
        "tolerancia = 0.0000001\n",
        "def funcion_recursiva(n):\n",
        "  if n != 1:\n",
        "    return float(1/((2*n+1)*(2*n+3)) + funcion_recursiva(n-1))\n",
        "  else:\n",
        "    return float(1/((2*n+1)*(2*n+3)))\n",
        "\n",
        "def formula(n):\n",
        "  return float(n/(3*(2*n+3)))\n",
        "\n",
        "print(f\"Resultado de manera manual: {funcion_recursiva(numero)}. Resultado segun la formula:{formula(numero)}\")\n",
        "\n",
        "for i in range(1, numero+1):\n",
        "  print(f\"Para n = {i}\")\n",
        "  if (funcion_recursiva(i) - formula(i) < tolerancia):\n",
        "    print(f\"{funcion_recursiva(i)} es igual a {formula(i)}, por tanto, sí cumple.\")\n",
        "  else:\n",
        "    print(f\"{funcion_recursiva(i)} no es igual a {formula(i)}, por tanto, NO cumple\")\n",
        "\n"
      ]
    },
    {
      "cell_type": "code",
      "source": [
        "#Pregunta 3:\n",
        "\n",
        "conjunto_A = [1, 5, 25, 125] #A está definido dentro del universo, por lo que no se toma el 625\n",
        "cardinal_A = len(conjunto_A)\n",
        "conjunto_B = [1, 5, 31, 155]\n",
        "cardinal_B = len(conjunto_B)\n",
        "cardinal_universo = 200\n",
        "A_union_B =[1, 5, 25, 31, 125, 155]\n",
        "\n",
        "print(\"U - (AUB)\")\n",
        "\n",
        "print(f\"Cardinal de A: {len(conjunto_A)}\")\n",
        "print(f\"Cardinal de A: {len(conjunto_B)}\")\n",
        "print(f\"Cardinal de U-(AUB) = {cardinal_universo - (len(A_union_B))}\")\n",
        "\n"
      ],
      "metadata": {
        "colab": {
          "base_uri": "https://localhost:8080/"
        },
        "id": "oanY99-ozEBt",
        "outputId": "ca7f7fad-4979-411b-c9e1-5200603d935f"
      },
      "execution_count": 56,
      "outputs": [
        {
          "output_type": "stream",
          "name": "stdout",
          "text": [
            "U - (AUB)\n",
            "Cardinal de A: 4\n",
            "Cardinal de A: 4\n",
            "Cardinal de U-(AUB) = 194\n"
          ]
        }
      ]
    },
    {
      "cell_type": "code",
      "source": [
        "#Pregunta 4:\n",
        "from math import factorial\n",
        "\n",
        "total_celdas = 25\n",
        "numero_rojas = 6\n",
        "numero_verdes = 7\n",
        "numero_azules = 6\n",
        "numero_magenta = 6;\n",
        "\n",
        "print(f\" El total de configutaciones distintas que puede tener es de: {int(factorial(total_celdas)/(factorial(numero_rojas)*factorial(numero_azules)*factorial(numero_verdes)*factorial(numero_magenta)))}\")"
      ],
      "metadata": {
        "colab": {
          "base_uri": "https://localhost:8080/"
        },
        "id": "pjueMBdK4rpE",
        "outputId": "41f4a362-0dcb-494b-a9e9-18254698ce1c"
      },
      "execution_count": 54,
      "outputs": [
        {
          "output_type": "stream",
          "name": "stdout",
          "text": [
            " El total de configutaciones distintas que puede tener es de: 8245512475200\n"
          ]
        }
      ]
    }
  ]
}