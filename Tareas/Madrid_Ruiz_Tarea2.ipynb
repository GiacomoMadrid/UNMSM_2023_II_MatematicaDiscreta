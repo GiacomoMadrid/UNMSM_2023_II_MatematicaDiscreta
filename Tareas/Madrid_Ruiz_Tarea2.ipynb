{
  "nbformat": 4,
  "nbformat_minor": 0,
  "metadata": {
    "colab": {
      "provenance": []
    },
    "kernelspec": {
      "name": "python3",
      "display_name": "Python 3"
    },
    "language_info": {
      "name": "python"
    }
  },
  "cells": [
    {
      "cell_type": "code",
      "execution_count": 10,
      "metadata": {
        "id": "YME7q-h2iptz",
        "colab": {
          "base_uri": "https://localhost:8080/"
        },
        "outputId": "81676e97-5c49-4ec1-d743-79f5364dc35b"
      },
      "outputs": [
        {
          "output_type": "stream",
          "name": "stdout",
          "text": [
            "1. ¿Cuántos números enteros positivos, menores o iguales que 10.000.000, hay que sean múltiplos de 3 o de 7?\n",
            "Cantidad de Z+ menores o iguales a 10,000,000:  4285714\n"
          ]
        }
      ],
      "source": [
        "limite = 10000000\n",
        "a = 3\n",
        "b = 7\n",
        "\n",
        "print(\"1. ¿Cuántos números enteros positivos, menores o iguales que 10.000.000, hay que sean múltiplos de 3 o de 7?\")\n",
        "def conteo(numero, multiplo):\n",
        "  numero_mayor = numero // multiplo\n",
        "  limite_superior = numero_mayor * multiplo\n",
        "  cantidad = ((limite_superior - multiplo)/multiplo) + 1\n",
        "  return cantidad\n",
        "\n",
        "#|X ∪ Y| = |X| + |Y| − |X ∩ Y|\n",
        "\n",
        "cantidad_z = conteo(limite, a) + conteo(limite, b) - conteo(limite, a*b)\n",
        "print(\"Cantidad de Z+ menores o iguales a 10,000,000: \", int(cantidad_z))"
      ]
    },
    {
      "cell_type": "code",
      "source": [
        "numero = 120\n",
        "contador = 0\n",
        "primos = []\n",
        "\n",
        "print(\"2. ¿Cuántos números enteros positivos primos hay menores o iguales que 120?\")\n",
        "for i in range (1, numero+1):\n",
        "    contador = 0\n",
        "    for j in range (1, numero+1):\n",
        "        if i % j == 0:\n",
        "            contador += 1\n",
        "\n",
        "    if contador == 2:\n",
        "        primos.append(i)\n",
        "\n",
        "print(f\"Los números primos menores o iguales a {numero} son: \", primos)\n",
        "print(\"La cantidad es: \", len(primos))\n"
      ],
      "metadata": {
        "id": "72WULQhjmF53",
        "colab": {
          "base_uri": "https://localhost:8080/"
        },
        "outputId": "f715f378-8a07-4590-c36d-0f488095c49f"
      },
      "execution_count": 11,
      "outputs": [
        {
          "output_type": "stream",
          "name": "stdout",
          "text": [
            "2. ¿Cuántos números enteros positivos primos hay menores o iguales que 120?\n",
            "Los números primos menores o iguales a 120 son:  [2, 3, 5, 7, 11, 13, 17, 19, 23, 29, 31, 37, 41, 43, 47, 53, 59, 61, 67, 71, 73, 79, 83, 89, 97, 101, 103, 107, 109, 113]\n",
            "La cantidad es:  30\n"
          ]
        }
      ]
    },
    {
      "cell_type": "code",
      "source": [
        "import itertools\n",
        "\n",
        "computacion = [\"Computación 1\", \"Computación 2\", \"Computación 3\", \"Computación 4\", \"Computación 5\"]\n",
        "matematicas = [\"Matemáticas 1\", \"Matemáticas 2\", \"Matemáticas 3\"]\n",
        "artes = [\"Artes 1\", \"Artes 2\"]\n",
        "\n",
        "combinacion_1 = list(itertools.product(computacion, matematicas))\n",
        "\n",
        "print(\"3. ¿De cuántas maneras se pueden seleccionar dos libros de temas diferentes entre cinco libros de computación distintos, tres libros de matemáticas diferentes y dos libros de arte distintos?\")\n",
        "for i in combinacion_1:\n",
        "    print(i)\n",
        "\n",
        "combinacion_2 = list(itertools.product(matematicas, artes))\n",
        "\n",
        "for j in combinacion_2:\n",
        "    print(j)\n",
        "\n",
        "combinacion_3 = list(itertools.product(computacion, artes))\n",
        "\n",
        "for k in combinacion_3:\n",
        "    print(k)\n",
        "\n",
        "print(\"\\nManeras distintas posibles: \", len(combinacion_1)+len(combinacion_2)+len(combinacion_3))"
      ],
      "metadata": {
        "id": "HQYwnmeNs9x2",
        "colab": {
          "base_uri": "https://localhost:8080/"
        },
        "outputId": "052f2549-a51d-4d20-9b4e-30ddb27ee594"
      },
      "execution_count": 12,
      "outputs": [
        {
          "output_type": "stream",
          "name": "stdout",
          "text": [
            "3. ¿De cuántas maneras se pueden seleccionar dos libros de temas diferentes entre cinco libros de computación distintos, tres libros de matemáticas diferentes y dos libros de arte distintos?\n",
            "('Computación 1', 'Matemáticas 1')\n",
            "('Computación 1', 'Matemáticas 2')\n",
            "('Computación 1', 'Matemáticas 3')\n",
            "('Computación 2', 'Matemáticas 1')\n",
            "('Computación 2', 'Matemáticas 2')\n",
            "('Computación 2', 'Matemáticas 3')\n",
            "('Computación 3', 'Matemáticas 1')\n",
            "('Computación 3', 'Matemáticas 2')\n",
            "('Computación 3', 'Matemáticas 3')\n",
            "('Computación 4', 'Matemáticas 1')\n",
            "('Computación 4', 'Matemáticas 2')\n",
            "('Computación 4', 'Matemáticas 3')\n",
            "('Computación 5', 'Matemáticas 1')\n",
            "('Computación 5', 'Matemáticas 2')\n",
            "('Computación 5', 'Matemáticas 3')\n",
            "('Matemáticas 1', 'Artes 1')\n",
            "('Matemáticas 1', 'Artes 2')\n",
            "('Matemáticas 2', 'Artes 1')\n",
            "('Matemáticas 2', 'Artes 2')\n",
            "('Matemáticas 3', 'Artes 1')\n",
            "('Matemáticas 3', 'Artes 2')\n",
            "('Computación 1', 'Artes 1')\n",
            "('Computación 1', 'Artes 2')\n",
            "('Computación 2', 'Artes 1')\n",
            "('Computación 2', 'Artes 2')\n",
            "('Computación 3', 'Artes 1')\n",
            "('Computación 3', 'Artes 2')\n",
            "('Computación 4', 'Artes 1')\n",
            "('Computación 4', 'Artes 2')\n",
            "('Computación 5', 'Artes 1')\n",
            "('Computación 5', 'Artes 2')\n",
            "\n",
            "Maneras distintas posibles:  31\n"
          ]
        }
      ]
    },
    {
      "cell_type": "code",
      "source": [
        "import itertools\n",
        "personas = [\"Alicia\", \"Benjamín\", \"Consuelo\", \"Adolfo\", \"Eduardo\", \"Francisco\"]\n",
        "puestos = 3\n",
        "n = len(personas)\n",
        "\n",
        "print(\"4. Un comité de seis personas, compuesto por Alicia, Benjamín, Consuelo, Adolfo,\")\n",
        "print(\"Eduardo y Francisco, debe seleccionar un presidente, secretario y tesorero.\")\n",
        "\n",
        "permutar_puestos = list(itertools.permutations(personas, puestos))\n",
        "print(\"\\na) ¿De cuántas maneras pueden hacer esto?\")\n",
        "for i in permutar_puestos:\n",
        "    print(i)\n",
        "\n",
        "print (\"\\nManeras posibles = {}! / ({}-{})! = {}\".format(n, n, puestos, len(permutar_puestos)))\n",
        "\n",
        "print(\"\\nb) ¿De cuántas maneras pueden hacerlo si Alicia o Benjamín debe ser el presidente?\")\n",
        "\n",
        "# Primero, Alicia de presidenta\n",
        "\n",
        "personas_sin_Alicia = [\"Benjamín\", \"Consuelo\", \"Adolfo\", \"Eduardo\", \"Francisco\"]\n",
        "\n",
        "puestos_libres = 2\n",
        "primer_elemento_1 = \"Alicia\"\n",
        "permutar_puestos_1 = list(itertools.permutations(personas_sin_Alicia, puestos_libres))\n",
        "permutaciones_con_Alicia = [(primer_elemento_1,) + p for p in permutar_puestos_1]\n",
        "\n",
        "for i in permutaciones_con_Alicia:\n",
        "    print(i)\n",
        "\n",
        "# Tomando a Benjamín de presidente\n",
        "\n",
        "personas_sin_Benjamin = [\"Alicia\", \"Consuelo\", \"Adolfo\", \"Eduardo\", \"Francisco\"]\n",
        "primer_elemento_2 = \"Benjamín\"\n",
        "permutar_puestos_2 = list(itertools.permutations(personas_sin_Benjamin, puestos_libres))\n",
        "permutaciones_con_Benjamin = [(primer_elemento_2,) + p for p in permutar_puestos_2]\n",
        "\n",
        "for i in permutaciones_con_Benjamin:\n",
        "    print(i)\n",
        "\n",
        "print(\"\\nManeras posibles en las que Alicia o Benjamín son presidentes: \", len(permutaciones_con_Alicia)+len(permutaciones_con_Benjamin))\n",
        "\n",
        "print(\"\\nc) ¿De cuántas maneras pueden hacerlo si Eduardo debe ocupar uno de los puestos?\")\n",
        "permutaciones_con_Eduardo = [p for p in permutar_puestos if \"Eduardo\" in p]\n",
        "\n",
        "for i in permutaciones_con_Eduardo:\n",
        "    print(i)\n",
        "\n",
        "print(\"\\nManeras posibles con Eduardo en alguno de los puestos: \", len(permutaciones_con_Eduardo))\n",
        "\n",
        "print(\"\\nd) ¿De cuántas maneras pueden hacerlo si tanto Adolfo como Francisco deben ocupar un puesto?\")\n",
        "permutaciones_con_Adolfo_Francisco = [p for p in permutar_puestos if \"Adolfo\" in p and \"Francisco\" in p]\n",
        "\n",
        "for i in permutaciones_con_Adolfo_Francisco:\n",
        "    print(i)\n",
        "\n",
        "print(\"\\nManeras posibles con Adolfo y Francisco en alguno de los puestos: \", len(permutaciones_con_Adolfo_Francisco))\n"
      ],
      "metadata": {
        "id": "5QeNWLDic76S",
        "colab": {
          "base_uri": "https://localhost:8080/"
        },
        "outputId": "39c8b93c-c86d-4bb4-f34b-1b1d5c2a1178"
      },
      "execution_count": 13,
      "outputs": [
        {
          "output_type": "stream",
          "name": "stdout",
          "text": [
            "4. Un comité de seis personas, compuesto por Alicia, Benjamín, Consuelo, Adolfo,\n",
            "Eduardo y Francisco, debe seleccionar un presidente, secretario y tesorero.\n",
            "\n",
            "a) ¿De cuántas maneras pueden hacer esto?\n",
            "('Alicia', 'Benjamín', 'Consuelo')\n",
            "('Alicia', 'Benjamín', 'Adolfo')\n",
            "('Alicia', 'Benjamín', 'Eduardo')\n",
            "('Alicia', 'Benjamín', 'Francisco')\n",
            "('Alicia', 'Consuelo', 'Benjamín')\n",
            "('Alicia', 'Consuelo', 'Adolfo')\n",
            "('Alicia', 'Consuelo', 'Eduardo')\n",
            "('Alicia', 'Consuelo', 'Francisco')\n",
            "('Alicia', 'Adolfo', 'Benjamín')\n",
            "('Alicia', 'Adolfo', 'Consuelo')\n",
            "('Alicia', 'Adolfo', 'Eduardo')\n",
            "('Alicia', 'Adolfo', 'Francisco')\n",
            "('Alicia', 'Eduardo', 'Benjamín')\n",
            "('Alicia', 'Eduardo', 'Consuelo')\n",
            "('Alicia', 'Eduardo', 'Adolfo')\n",
            "('Alicia', 'Eduardo', 'Francisco')\n",
            "('Alicia', 'Francisco', 'Benjamín')\n",
            "('Alicia', 'Francisco', 'Consuelo')\n",
            "('Alicia', 'Francisco', 'Adolfo')\n",
            "('Alicia', 'Francisco', 'Eduardo')\n",
            "('Benjamín', 'Alicia', 'Consuelo')\n",
            "('Benjamín', 'Alicia', 'Adolfo')\n",
            "('Benjamín', 'Alicia', 'Eduardo')\n",
            "('Benjamín', 'Alicia', 'Francisco')\n",
            "('Benjamín', 'Consuelo', 'Alicia')\n",
            "('Benjamín', 'Consuelo', 'Adolfo')\n",
            "('Benjamín', 'Consuelo', 'Eduardo')\n",
            "('Benjamín', 'Consuelo', 'Francisco')\n",
            "('Benjamín', 'Adolfo', 'Alicia')\n",
            "('Benjamín', 'Adolfo', 'Consuelo')\n",
            "('Benjamín', 'Adolfo', 'Eduardo')\n",
            "('Benjamín', 'Adolfo', 'Francisco')\n",
            "('Benjamín', 'Eduardo', 'Alicia')\n",
            "('Benjamín', 'Eduardo', 'Consuelo')\n",
            "('Benjamín', 'Eduardo', 'Adolfo')\n",
            "('Benjamín', 'Eduardo', 'Francisco')\n",
            "('Benjamín', 'Francisco', 'Alicia')\n",
            "('Benjamín', 'Francisco', 'Consuelo')\n",
            "('Benjamín', 'Francisco', 'Adolfo')\n",
            "('Benjamín', 'Francisco', 'Eduardo')\n",
            "('Consuelo', 'Alicia', 'Benjamín')\n",
            "('Consuelo', 'Alicia', 'Adolfo')\n",
            "('Consuelo', 'Alicia', 'Eduardo')\n",
            "('Consuelo', 'Alicia', 'Francisco')\n",
            "('Consuelo', 'Benjamín', 'Alicia')\n",
            "('Consuelo', 'Benjamín', 'Adolfo')\n",
            "('Consuelo', 'Benjamín', 'Eduardo')\n",
            "('Consuelo', 'Benjamín', 'Francisco')\n",
            "('Consuelo', 'Adolfo', 'Alicia')\n",
            "('Consuelo', 'Adolfo', 'Benjamín')\n",
            "('Consuelo', 'Adolfo', 'Eduardo')\n",
            "('Consuelo', 'Adolfo', 'Francisco')\n",
            "('Consuelo', 'Eduardo', 'Alicia')\n",
            "('Consuelo', 'Eduardo', 'Benjamín')\n",
            "('Consuelo', 'Eduardo', 'Adolfo')\n",
            "('Consuelo', 'Eduardo', 'Francisco')\n",
            "('Consuelo', 'Francisco', 'Alicia')\n",
            "('Consuelo', 'Francisco', 'Benjamín')\n",
            "('Consuelo', 'Francisco', 'Adolfo')\n",
            "('Consuelo', 'Francisco', 'Eduardo')\n",
            "('Adolfo', 'Alicia', 'Benjamín')\n",
            "('Adolfo', 'Alicia', 'Consuelo')\n",
            "('Adolfo', 'Alicia', 'Eduardo')\n",
            "('Adolfo', 'Alicia', 'Francisco')\n",
            "('Adolfo', 'Benjamín', 'Alicia')\n",
            "('Adolfo', 'Benjamín', 'Consuelo')\n",
            "('Adolfo', 'Benjamín', 'Eduardo')\n",
            "('Adolfo', 'Benjamín', 'Francisco')\n",
            "('Adolfo', 'Consuelo', 'Alicia')\n",
            "('Adolfo', 'Consuelo', 'Benjamín')\n",
            "('Adolfo', 'Consuelo', 'Eduardo')\n",
            "('Adolfo', 'Consuelo', 'Francisco')\n",
            "('Adolfo', 'Eduardo', 'Alicia')\n",
            "('Adolfo', 'Eduardo', 'Benjamín')\n",
            "('Adolfo', 'Eduardo', 'Consuelo')\n",
            "('Adolfo', 'Eduardo', 'Francisco')\n",
            "('Adolfo', 'Francisco', 'Alicia')\n",
            "('Adolfo', 'Francisco', 'Benjamín')\n",
            "('Adolfo', 'Francisco', 'Consuelo')\n",
            "('Adolfo', 'Francisco', 'Eduardo')\n",
            "('Eduardo', 'Alicia', 'Benjamín')\n",
            "('Eduardo', 'Alicia', 'Consuelo')\n",
            "('Eduardo', 'Alicia', 'Adolfo')\n",
            "('Eduardo', 'Alicia', 'Francisco')\n",
            "('Eduardo', 'Benjamín', 'Alicia')\n",
            "('Eduardo', 'Benjamín', 'Consuelo')\n",
            "('Eduardo', 'Benjamín', 'Adolfo')\n",
            "('Eduardo', 'Benjamín', 'Francisco')\n",
            "('Eduardo', 'Consuelo', 'Alicia')\n",
            "('Eduardo', 'Consuelo', 'Benjamín')\n",
            "('Eduardo', 'Consuelo', 'Adolfo')\n",
            "('Eduardo', 'Consuelo', 'Francisco')\n",
            "('Eduardo', 'Adolfo', 'Alicia')\n",
            "('Eduardo', 'Adolfo', 'Benjamín')\n",
            "('Eduardo', 'Adolfo', 'Consuelo')\n",
            "('Eduardo', 'Adolfo', 'Francisco')\n",
            "('Eduardo', 'Francisco', 'Alicia')\n",
            "('Eduardo', 'Francisco', 'Benjamín')\n",
            "('Eduardo', 'Francisco', 'Consuelo')\n",
            "('Eduardo', 'Francisco', 'Adolfo')\n",
            "('Francisco', 'Alicia', 'Benjamín')\n",
            "('Francisco', 'Alicia', 'Consuelo')\n",
            "('Francisco', 'Alicia', 'Adolfo')\n",
            "('Francisco', 'Alicia', 'Eduardo')\n",
            "('Francisco', 'Benjamín', 'Alicia')\n",
            "('Francisco', 'Benjamín', 'Consuelo')\n",
            "('Francisco', 'Benjamín', 'Adolfo')\n",
            "('Francisco', 'Benjamín', 'Eduardo')\n",
            "('Francisco', 'Consuelo', 'Alicia')\n",
            "('Francisco', 'Consuelo', 'Benjamín')\n",
            "('Francisco', 'Consuelo', 'Adolfo')\n",
            "('Francisco', 'Consuelo', 'Eduardo')\n",
            "('Francisco', 'Adolfo', 'Alicia')\n",
            "('Francisco', 'Adolfo', 'Benjamín')\n",
            "('Francisco', 'Adolfo', 'Consuelo')\n",
            "('Francisco', 'Adolfo', 'Eduardo')\n",
            "('Francisco', 'Eduardo', 'Alicia')\n",
            "('Francisco', 'Eduardo', 'Benjamín')\n",
            "('Francisco', 'Eduardo', 'Consuelo')\n",
            "('Francisco', 'Eduardo', 'Adolfo')\n",
            "\n",
            "Maneras posibles = 6! / (6-3)! = 120\n",
            "\n",
            "b) ¿De cuántas maneras pueden hacerlo si Alicia o Benjamín debe ser el presidente?\n",
            "('Alicia', 'Benjamín', 'Consuelo')\n",
            "('Alicia', 'Benjamín', 'Adolfo')\n",
            "('Alicia', 'Benjamín', 'Eduardo')\n",
            "('Alicia', 'Benjamín', 'Francisco')\n",
            "('Alicia', 'Consuelo', 'Benjamín')\n",
            "('Alicia', 'Consuelo', 'Adolfo')\n",
            "('Alicia', 'Consuelo', 'Eduardo')\n",
            "('Alicia', 'Consuelo', 'Francisco')\n",
            "('Alicia', 'Adolfo', 'Benjamín')\n",
            "('Alicia', 'Adolfo', 'Consuelo')\n",
            "('Alicia', 'Adolfo', 'Eduardo')\n",
            "('Alicia', 'Adolfo', 'Francisco')\n",
            "('Alicia', 'Eduardo', 'Benjamín')\n",
            "('Alicia', 'Eduardo', 'Consuelo')\n",
            "('Alicia', 'Eduardo', 'Adolfo')\n",
            "('Alicia', 'Eduardo', 'Francisco')\n",
            "('Alicia', 'Francisco', 'Benjamín')\n",
            "('Alicia', 'Francisco', 'Consuelo')\n",
            "('Alicia', 'Francisco', 'Adolfo')\n",
            "('Alicia', 'Francisco', 'Eduardo')\n",
            "('Benjamín', 'Alicia', 'Consuelo')\n",
            "('Benjamín', 'Alicia', 'Adolfo')\n",
            "('Benjamín', 'Alicia', 'Eduardo')\n",
            "('Benjamín', 'Alicia', 'Francisco')\n",
            "('Benjamín', 'Consuelo', 'Alicia')\n",
            "('Benjamín', 'Consuelo', 'Adolfo')\n",
            "('Benjamín', 'Consuelo', 'Eduardo')\n",
            "('Benjamín', 'Consuelo', 'Francisco')\n",
            "('Benjamín', 'Adolfo', 'Alicia')\n",
            "('Benjamín', 'Adolfo', 'Consuelo')\n",
            "('Benjamín', 'Adolfo', 'Eduardo')\n",
            "('Benjamín', 'Adolfo', 'Francisco')\n",
            "('Benjamín', 'Eduardo', 'Alicia')\n",
            "('Benjamín', 'Eduardo', 'Consuelo')\n",
            "('Benjamín', 'Eduardo', 'Adolfo')\n",
            "('Benjamín', 'Eduardo', 'Francisco')\n",
            "('Benjamín', 'Francisco', 'Alicia')\n",
            "('Benjamín', 'Francisco', 'Consuelo')\n",
            "('Benjamín', 'Francisco', 'Adolfo')\n",
            "('Benjamín', 'Francisco', 'Eduardo')\n",
            "\n",
            "Maneras posibles en las que Alicia o Benjamín son presidentes:  40\n",
            "\n",
            "c) ¿De cuántas maneras pueden hacerlo si Eduardo debe ocupar uno de los puestos?\n",
            "('Alicia', 'Benjamín', 'Eduardo')\n",
            "('Alicia', 'Consuelo', 'Eduardo')\n",
            "('Alicia', 'Adolfo', 'Eduardo')\n",
            "('Alicia', 'Eduardo', 'Benjamín')\n",
            "('Alicia', 'Eduardo', 'Consuelo')\n",
            "('Alicia', 'Eduardo', 'Adolfo')\n",
            "('Alicia', 'Eduardo', 'Francisco')\n",
            "('Alicia', 'Francisco', 'Eduardo')\n",
            "('Benjamín', 'Alicia', 'Eduardo')\n",
            "('Benjamín', 'Consuelo', 'Eduardo')\n",
            "('Benjamín', 'Adolfo', 'Eduardo')\n",
            "('Benjamín', 'Eduardo', 'Alicia')\n",
            "('Benjamín', 'Eduardo', 'Consuelo')\n",
            "('Benjamín', 'Eduardo', 'Adolfo')\n",
            "('Benjamín', 'Eduardo', 'Francisco')\n",
            "('Benjamín', 'Francisco', 'Eduardo')\n",
            "('Consuelo', 'Alicia', 'Eduardo')\n",
            "('Consuelo', 'Benjamín', 'Eduardo')\n",
            "('Consuelo', 'Adolfo', 'Eduardo')\n",
            "('Consuelo', 'Eduardo', 'Alicia')\n",
            "('Consuelo', 'Eduardo', 'Benjamín')\n",
            "('Consuelo', 'Eduardo', 'Adolfo')\n",
            "('Consuelo', 'Eduardo', 'Francisco')\n",
            "('Consuelo', 'Francisco', 'Eduardo')\n",
            "('Adolfo', 'Alicia', 'Eduardo')\n",
            "('Adolfo', 'Benjamín', 'Eduardo')\n",
            "('Adolfo', 'Consuelo', 'Eduardo')\n",
            "('Adolfo', 'Eduardo', 'Alicia')\n",
            "('Adolfo', 'Eduardo', 'Benjamín')\n",
            "('Adolfo', 'Eduardo', 'Consuelo')\n",
            "('Adolfo', 'Eduardo', 'Francisco')\n",
            "('Adolfo', 'Francisco', 'Eduardo')\n",
            "('Eduardo', 'Alicia', 'Benjamín')\n",
            "('Eduardo', 'Alicia', 'Consuelo')\n",
            "('Eduardo', 'Alicia', 'Adolfo')\n",
            "('Eduardo', 'Alicia', 'Francisco')\n",
            "('Eduardo', 'Benjamín', 'Alicia')\n",
            "('Eduardo', 'Benjamín', 'Consuelo')\n",
            "('Eduardo', 'Benjamín', 'Adolfo')\n",
            "('Eduardo', 'Benjamín', 'Francisco')\n",
            "('Eduardo', 'Consuelo', 'Alicia')\n",
            "('Eduardo', 'Consuelo', 'Benjamín')\n",
            "('Eduardo', 'Consuelo', 'Adolfo')\n",
            "('Eduardo', 'Consuelo', 'Francisco')\n",
            "('Eduardo', 'Adolfo', 'Alicia')\n",
            "('Eduardo', 'Adolfo', 'Benjamín')\n",
            "('Eduardo', 'Adolfo', 'Consuelo')\n",
            "('Eduardo', 'Adolfo', 'Francisco')\n",
            "('Eduardo', 'Francisco', 'Alicia')\n",
            "('Eduardo', 'Francisco', 'Benjamín')\n",
            "('Eduardo', 'Francisco', 'Consuelo')\n",
            "('Eduardo', 'Francisco', 'Adolfo')\n",
            "('Francisco', 'Alicia', 'Eduardo')\n",
            "('Francisco', 'Benjamín', 'Eduardo')\n",
            "('Francisco', 'Consuelo', 'Eduardo')\n",
            "('Francisco', 'Adolfo', 'Eduardo')\n",
            "('Francisco', 'Eduardo', 'Alicia')\n",
            "('Francisco', 'Eduardo', 'Benjamín')\n",
            "('Francisco', 'Eduardo', 'Consuelo')\n",
            "('Francisco', 'Eduardo', 'Adolfo')\n",
            "\n",
            "Maneras posibles con Eduardo en alguno de los puestos:  60\n",
            "\n",
            "d) ¿De cuántas maneras pueden hacerlo si tanto Adolfo como Francisco deben ocupar un puesto?\n",
            "('Alicia', 'Adolfo', 'Francisco')\n",
            "('Alicia', 'Francisco', 'Adolfo')\n",
            "('Benjamín', 'Adolfo', 'Francisco')\n",
            "('Benjamín', 'Francisco', 'Adolfo')\n",
            "('Consuelo', 'Adolfo', 'Francisco')\n",
            "('Consuelo', 'Francisco', 'Adolfo')\n",
            "('Adolfo', 'Alicia', 'Francisco')\n",
            "('Adolfo', 'Benjamín', 'Francisco')\n",
            "('Adolfo', 'Consuelo', 'Francisco')\n",
            "('Adolfo', 'Eduardo', 'Francisco')\n",
            "('Adolfo', 'Francisco', 'Alicia')\n",
            "('Adolfo', 'Francisco', 'Benjamín')\n",
            "('Adolfo', 'Francisco', 'Consuelo')\n",
            "('Adolfo', 'Francisco', 'Eduardo')\n",
            "('Eduardo', 'Adolfo', 'Francisco')\n",
            "('Eduardo', 'Francisco', 'Adolfo')\n",
            "('Francisco', 'Alicia', 'Adolfo')\n",
            "('Francisco', 'Benjamín', 'Adolfo')\n",
            "('Francisco', 'Consuelo', 'Adolfo')\n",
            "('Francisco', 'Adolfo', 'Alicia')\n",
            "('Francisco', 'Adolfo', 'Benjamín')\n",
            "('Francisco', 'Adolfo', 'Consuelo')\n",
            "('Francisco', 'Adolfo', 'Eduardo')\n",
            "('Francisco', 'Eduardo', 'Adolfo')\n",
            "\n",
            "Maneras posibles con Adolfo y Francisco en alguno de los puestos:  24\n"
          ]
        }
      ]
    },
    {
      "cell_type": "code",
      "source": [
        "import itertools\n",
        "\n",
        "print(\"5.\")\n",
        "letras = [\"A\", \"B\", \"C\", \"D\", \"E\"]\n",
        "puestos = 4\n",
        "n = len(letras)\n",
        "\n",
        "permutar_letras = list(itertools.permutations(letras, puestos))\n",
        "print(\"a) ¿Cuántas cadenas de longitud 4 se pueden formar usando las letras ABCDE si no se aceptan repeticiones?\")\n",
        "for i in permutar_letras:\n",
        "    print(i)\n",
        "\n",
        "print (\"\\nManeras posibles = {}! / ({}-{})! = {}\".format(n, n, puestos, len(permutar_letras)))\n",
        "\n",
        "print(\"\\n\\nb) ¿Cuántas cadenas de a) comienzan con la letra B?\")\n",
        "#  Tomando en cuenta la letra B primera\n",
        "\n",
        "letras_sin_B = [\"A\", \"C\", \"D\", \"E\"]\n",
        "\n",
        "puestos_libres = 3\n",
        "\n",
        "primera_letra = \"B\"\n",
        "\n",
        "permutar_letras_1 = list(itertools.permutations(letras_sin_B, puestos_libres))\n",
        "\n",
        "permutaciones_con_B = [(primera_letra,) + p for p in permutar_letras_1]\n",
        "\n",
        "for i in permutaciones_con_B:\n",
        "    print(i)\n",
        "\n",
        "print(\"\\nManeras posibles en las que B sea la primera letra: \", len(permutaciones_con_B))\n",
        "\n",
        "print(\"\\n\\nc) ¿Cuántas cadenas de a) no comienzan con la letra B?\")\n",
        "\n",
        "# Filtrar las permutaciones en las que la letra B no sea la primera\n",
        "permutaciones_sin_B_inicio = [p for p in permutar_letras if p[0] != \"B\"]\n",
        "\n",
        "for i in permutaciones_sin_B_inicio:\n",
        "    print(i)\n",
        "\n",
        "print(\"\\nManeras posibles sin que la letra B sea primera: \", len(permutaciones_sin_B_inicio))\n"
      ],
      "metadata": {
        "id": "-ERW1Xsssh-P",
        "colab": {
          "base_uri": "https://localhost:8080/"
        },
        "outputId": "7bb127ba-fb27-4e9d-9e67-f89bbdda0107"
      },
      "execution_count": 14,
      "outputs": [
        {
          "output_type": "stream",
          "name": "stdout",
          "text": [
            "5.\n",
            "a) ¿Cuántas cadenas de longitud 4 se pueden formar usando las letras ABCDE si no se aceptan repeticiones?\n",
            "('A', 'B', 'C', 'D')\n",
            "('A', 'B', 'C', 'E')\n",
            "('A', 'B', 'D', 'C')\n",
            "('A', 'B', 'D', 'E')\n",
            "('A', 'B', 'E', 'C')\n",
            "('A', 'B', 'E', 'D')\n",
            "('A', 'C', 'B', 'D')\n",
            "('A', 'C', 'B', 'E')\n",
            "('A', 'C', 'D', 'B')\n",
            "('A', 'C', 'D', 'E')\n",
            "('A', 'C', 'E', 'B')\n",
            "('A', 'C', 'E', 'D')\n",
            "('A', 'D', 'B', 'C')\n",
            "('A', 'D', 'B', 'E')\n",
            "('A', 'D', 'C', 'B')\n",
            "('A', 'D', 'C', 'E')\n",
            "('A', 'D', 'E', 'B')\n",
            "('A', 'D', 'E', 'C')\n",
            "('A', 'E', 'B', 'C')\n",
            "('A', 'E', 'B', 'D')\n",
            "('A', 'E', 'C', 'B')\n",
            "('A', 'E', 'C', 'D')\n",
            "('A', 'E', 'D', 'B')\n",
            "('A', 'E', 'D', 'C')\n",
            "('B', 'A', 'C', 'D')\n",
            "('B', 'A', 'C', 'E')\n",
            "('B', 'A', 'D', 'C')\n",
            "('B', 'A', 'D', 'E')\n",
            "('B', 'A', 'E', 'C')\n",
            "('B', 'A', 'E', 'D')\n",
            "('B', 'C', 'A', 'D')\n",
            "('B', 'C', 'A', 'E')\n",
            "('B', 'C', 'D', 'A')\n",
            "('B', 'C', 'D', 'E')\n",
            "('B', 'C', 'E', 'A')\n",
            "('B', 'C', 'E', 'D')\n",
            "('B', 'D', 'A', 'C')\n",
            "('B', 'D', 'A', 'E')\n",
            "('B', 'D', 'C', 'A')\n",
            "('B', 'D', 'C', 'E')\n",
            "('B', 'D', 'E', 'A')\n",
            "('B', 'D', 'E', 'C')\n",
            "('B', 'E', 'A', 'C')\n",
            "('B', 'E', 'A', 'D')\n",
            "('B', 'E', 'C', 'A')\n",
            "('B', 'E', 'C', 'D')\n",
            "('B', 'E', 'D', 'A')\n",
            "('B', 'E', 'D', 'C')\n",
            "('C', 'A', 'B', 'D')\n",
            "('C', 'A', 'B', 'E')\n",
            "('C', 'A', 'D', 'B')\n",
            "('C', 'A', 'D', 'E')\n",
            "('C', 'A', 'E', 'B')\n",
            "('C', 'A', 'E', 'D')\n",
            "('C', 'B', 'A', 'D')\n",
            "('C', 'B', 'A', 'E')\n",
            "('C', 'B', 'D', 'A')\n",
            "('C', 'B', 'D', 'E')\n",
            "('C', 'B', 'E', 'A')\n",
            "('C', 'B', 'E', 'D')\n",
            "('C', 'D', 'A', 'B')\n",
            "('C', 'D', 'A', 'E')\n",
            "('C', 'D', 'B', 'A')\n",
            "('C', 'D', 'B', 'E')\n",
            "('C', 'D', 'E', 'A')\n",
            "('C', 'D', 'E', 'B')\n",
            "('C', 'E', 'A', 'B')\n",
            "('C', 'E', 'A', 'D')\n",
            "('C', 'E', 'B', 'A')\n",
            "('C', 'E', 'B', 'D')\n",
            "('C', 'E', 'D', 'A')\n",
            "('C', 'E', 'D', 'B')\n",
            "('D', 'A', 'B', 'C')\n",
            "('D', 'A', 'B', 'E')\n",
            "('D', 'A', 'C', 'B')\n",
            "('D', 'A', 'C', 'E')\n",
            "('D', 'A', 'E', 'B')\n",
            "('D', 'A', 'E', 'C')\n",
            "('D', 'B', 'A', 'C')\n",
            "('D', 'B', 'A', 'E')\n",
            "('D', 'B', 'C', 'A')\n",
            "('D', 'B', 'C', 'E')\n",
            "('D', 'B', 'E', 'A')\n",
            "('D', 'B', 'E', 'C')\n",
            "('D', 'C', 'A', 'B')\n",
            "('D', 'C', 'A', 'E')\n",
            "('D', 'C', 'B', 'A')\n",
            "('D', 'C', 'B', 'E')\n",
            "('D', 'C', 'E', 'A')\n",
            "('D', 'C', 'E', 'B')\n",
            "('D', 'E', 'A', 'B')\n",
            "('D', 'E', 'A', 'C')\n",
            "('D', 'E', 'B', 'A')\n",
            "('D', 'E', 'B', 'C')\n",
            "('D', 'E', 'C', 'A')\n",
            "('D', 'E', 'C', 'B')\n",
            "('E', 'A', 'B', 'C')\n",
            "('E', 'A', 'B', 'D')\n",
            "('E', 'A', 'C', 'B')\n",
            "('E', 'A', 'C', 'D')\n",
            "('E', 'A', 'D', 'B')\n",
            "('E', 'A', 'D', 'C')\n",
            "('E', 'B', 'A', 'C')\n",
            "('E', 'B', 'A', 'D')\n",
            "('E', 'B', 'C', 'A')\n",
            "('E', 'B', 'C', 'D')\n",
            "('E', 'B', 'D', 'A')\n",
            "('E', 'B', 'D', 'C')\n",
            "('E', 'C', 'A', 'B')\n",
            "('E', 'C', 'A', 'D')\n",
            "('E', 'C', 'B', 'A')\n",
            "('E', 'C', 'B', 'D')\n",
            "('E', 'C', 'D', 'A')\n",
            "('E', 'C', 'D', 'B')\n",
            "('E', 'D', 'A', 'B')\n",
            "('E', 'D', 'A', 'C')\n",
            "('E', 'D', 'B', 'A')\n",
            "('E', 'D', 'B', 'C')\n",
            "('E', 'D', 'C', 'A')\n",
            "('E', 'D', 'C', 'B')\n",
            "\n",
            "Maneras posibles = 5! / (5-4)! = 120\n",
            "\n",
            "\n",
            "b) ¿Cuántas cadenas de a) comienzan con la letra B?\n",
            "('B', 'A', 'C', 'D')\n",
            "('B', 'A', 'C', 'E')\n",
            "('B', 'A', 'D', 'C')\n",
            "('B', 'A', 'D', 'E')\n",
            "('B', 'A', 'E', 'C')\n",
            "('B', 'A', 'E', 'D')\n",
            "('B', 'C', 'A', 'D')\n",
            "('B', 'C', 'A', 'E')\n",
            "('B', 'C', 'D', 'A')\n",
            "('B', 'C', 'D', 'E')\n",
            "('B', 'C', 'E', 'A')\n",
            "('B', 'C', 'E', 'D')\n",
            "('B', 'D', 'A', 'C')\n",
            "('B', 'D', 'A', 'E')\n",
            "('B', 'D', 'C', 'A')\n",
            "('B', 'D', 'C', 'E')\n",
            "('B', 'D', 'E', 'A')\n",
            "('B', 'D', 'E', 'C')\n",
            "('B', 'E', 'A', 'C')\n",
            "('B', 'E', 'A', 'D')\n",
            "('B', 'E', 'C', 'A')\n",
            "('B', 'E', 'C', 'D')\n",
            "('B', 'E', 'D', 'A')\n",
            "('B', 'E', 'D', 'C')\n",
            "\n",
            "Maneras posibles en las que B sea la primera letra:  24\n",
            "\n",
            "\n",
            "c) ¿Cuántas cadenas de a) no comienzan con la letra B?\n",
            "('A', 'B', 'C', 'D')\n",
            "('A', 'B', 'C', 'E')\n",
            "('A', 'B', 'D', 'C')\n",
            "('A', 'B', 'D', 'E')\n",
            "('A', 'B', 'E', 'C')\n",
            "('A', 'B', 'E', 'D')\n",
            "('A', 'C', 'B', 'D')\n",
            "('A', 'C', 'B', 'E')\n",
            "('A', 'C', 'D', 'B')\n",
            "('A', 'C', 'D', 'E')\n",
            "('A', 'C', 'E', 'B')\n",
            "('A', 'C', 'E', 'D')\n",
            "('A', 'D', 'B', 'C')\n",
            "('A', 'D', 'B', 'E')\n",
            "('A', 'D', 'C', 'B')\n",
            "('A', 'D', 'C', 'E')\n",
            "('A', 'D', 'E', 'B')\n",
            "('A', 'D', 'E', 'C')\n",
            "('A', 'E', 'B', 'C')\n",
            "('A', 'E', 'B', 'D')\n",
            "('A', 'E', 'C', 'B')\n",
            "('A', 'E', 'C', 'D')\n",
            "('A', 'E', 'D', 'B')\n",
            "('A', 'E', 'D', 'C')\n",
            "('C', 'A', 'B', 'D')\n",
            "('C', 'A', 'B', 'E')\n",
            "('C', 'A', 'D', 'B')\n",
            "('C', 'A', 'D', 'E')\n",
            "('C', 'A', 'E', 'B')\n",
            "('C', 'A', 'E', 'D')\n",
            "('C', 'B', 'A', 'D')\n",
            "('C', 'B', 'A', 'E')\n",
            "('C', 'B', 'D', 'A')\n",
            "('C', 'B', 'D', 'E')\n",
            "('C', 'B', 'E', 'A')\n",
            "('C', 'B', 'E', 'D')\n",
            "('C', 'D', 'A', 'B')\n",
            "('C', 'D', 'A', 'E')\n",
            "('C', 'D', 'B', 'A')\n",
            "('C', 'D', 'B', 'E')\n",
            "('C', 'D', 'E', 'A')\n",
            "('C', 'D', 'E', 'B')\n",
            "('C', 'E', 'A', 'B')\n",
            "('C', 'E', 'A', 'D')\n",
            "('C', 'E', 'B', 'A')\n",
            "('C', 'E', 'B', 'D')\n",
            "('C', 'E', 'D', 'A')\n",
            "('C', 'E', 'D', 'B')\n",
            "('D', 'A', 'B', 'C')\n",
            "('D', 'A', 'B', 'E')\n",
            "('D', 'A', 'C', 'B')\n",
            "('D', 'A', 'C', 'E')\n",
            "('D', 'A', 'E', 'B')\n",
            "('D', 'A', 'E', 'C')\n",
            "('D', 'B', 'A', 'C')\n",
            "('D', 'B', 'A', 'E')\n",
            "('D', 'B', 'C', 'A')\n",
            "('D', 'B', 'C', 'E')\n",
            "('D', 'B', 'E', 'A')\n",
            "('D', 'B', 'E', 'C')\n",
            "('D', 'C', 'A', 'B')\n",
            "('D', 'C', 'A', 'E')\n",
            "('D', 'C', 'B', 'A')\n",
            "('D', 'C', 'B', 'E')\n",
            "('D', 'C', 'E', 'A')\n",
            "('D', 'C', 'E', 'B')\n",
            "('D', 'E', 'A', 'B')\n",
            "('D', 'E', 'A', 'C')\n",
            "('D', 'E', 'B', 'A')\n",
            "('D', 'E', 'B', 'C')\n",
            "('D', 'E', 'C', 'A')\n",
            "('D', 'E', 'C', 'B')\n",
            "('E', 'A', 'B', 'C')\n",
            "('E', 'A', 'B', 'D')\n",
            "('E', 'A', 'C', 'B')\n",
            "('E', 'A', 'C', 'D')\n",
            "('E', 'A', 'D', 'B')\n",
            "('E', 'A', 'D', 'C')\n",
            "('E', 'B', 'A', 'C')\n",
            "('E', 'B', 'A', 'D')\n",
            "('E', 'B', 'C', 'A')\n",
            "('E', 'B', 'C', 'D')\n",
            "('E', 'B', 'D', 'A')\n",
            "('E', 'B', 'D', 'C')\n",
            "('E', 'C', 'A', 'B')\n",
            "('E', 'C', 'A', 'D')\n",
            "('E', 'C', 'B', 'A')\n",
            "('E', 'C', 'B', 'D')\n",
            "('E', 'C', 'D', 'A')\n",
            "('E', 'C', 'D', 'B')\n",
            "('E', 'D', 'A', 'B')\n",
            "('E', 'D', 'A', 'C')\n",
            "('E', 'D', 'B', 'A')\n",
            "('E', 'D', 'B', 'C')\n",
            "('E', 'D', 'C', 'A')\n",
            "('E', 'D', 'C', 'B')\n",
            "\n",
            "Maneras posibles sin que la letra B sea primera:  96\n"
          ]
        }
      ]
    },
    {
      "cell_type": "code",
      "source": [
        "print(\"6. En una fotografía digital, deseamos codificar la cantidad de luz en cada punto como una cadena de 8 bits. ¿Cuántos valores son posibles en un punto?\")\n",
        "# Al ser una cadena sucesiva de 8 bits, se considera el principio de la multiplicación, en el cual para cada bit se puede considerar el valor de 0 y 1 (dos dígitos)\n",
        "\n",
        "opcion = 2\n",
        "n = 8\n",
        "\n",
        "\n",
        "print(\"La cantidad de valores posibles en un punto es: \", opcion ** n)"
      ],
      "metadata": {
        "id": "EpGToJ5jyBx8",
        "colab": {
          "base_uri": "https://localhost:8080/"
        },
        "outputId": "b84ef4a1-1831-453d-a281-3e09c3e52819"
      },
      "execution_count": 15,
      "outputs": [
        {
          "output_type": "stream",
          "name": "stdout",
          "text": [
            "6. En una fotografía digital, deseamos codificar la cantidad de luz en cada punto como una cadena de 8 bits. ¿Cuántos valores son posibles en un punto?\n",
            "La cantidad de valores posibles en un punto es:  256\n"
          ]
        }
      ]
    },
    {
      "cell_type": "code",
      "source": [
        "print(\"7. Con el principio de la multiplicación para demostrar que un conjunto {x₁, . . . , x_n} de n elementos tiene 2ⁿ subconjuntos.\")\n",
        "# Un subconjunto se forma por la cantidad de pasos sucesivos que se indique, tomando en cuenta que se tienen 2 maneras posibles para cada paso:\n",
        "# maneras = 2\n",
        "# cantidad_pasos = n\n",
        "# valores = 2 ** n\n",
        "# para n = 3\n",
        "\n",
        "n = 3\n",
        "valores = 2 ** n\n",
        "\n",
        "print(valores)"
      ],
      "metadata": {
        "id": "VJD8pmY00gv5",
        "colab": {
          "base_uri": "https://localhost:8080/"
        },
        "outputId": "02d40433-f631-4b1e-8ea2-aa37ba098bf6"
      },
      "execution_count": 16,
      "outputs": [
        {
          "output_type": "stream",
          "name": "stdout",
          "text": [
            "7. Con el principio de la multiplicación para demostrar que un conjunto {x₁, . . . , x_n} de n elementos tiene 2ⁿ subconjuntos.\n",
            "8\n"
          ]
        }
      ]
    },
    {
      "cell_type": "code",
      "source": [
        "print(\"8. Sea X un conjunto de n elementos. ¿Cuántos pares ordenados (A, B) satisfacen A ⊆ B ⊆ X?\")\n",
        "\n",
        "\"\"\"\n",
        "Como A ⊆ B ⊆ X, existen 3 posiciones en las cuales cada elemento se puede encontrar en 3 conjuntos:\n",
        "\n",
        "Conjunto 1 : A\n",
        "Conjunto 2 : B - A\n",
        "Conjunto 3 : X - B\n",
        "\n",
        "Entonces, en cada paso se selecciona un conjunto de los 3 posibles, siendo que en el siguiente paso se puede volver a seleccionar un conjunto de entre los 3.\n",
        "\n",
        "Para un n cantidad de elementos, el número de pares ordenados (A, B) es 3ⁿ\n",
        "\n",
        "\"\"\"\n",
        "\n",
        "# para un n = 10\n",
        "\n",
        "n = 10\n",
        "\n",
        "valores = 3 ** n\n",
        "\n",
        "print(f\"La cantidad de pares ordenados (A, B) es {valores}.\")"
      ],
      "metadata": {
        "id": "3PkNPsge3adB",
        "colab": {
          "base_uri": "https://localhost:8080/"
        },
        "outputId": "bf4113ed-e137-4031-f810-9aa274f41a28"
      },
      "execution_count": 17,
      "outputs": [
        {
          "output_type": "stream",
          "name": "stdout",
          "text": [
            "8. Sea X un conjunto de n elementos. ¿Cuántos pares ordenados (A, B) satisfacen A ⊆ B ⊆ X?\n",
            "La cantidad de pares ordenados (A, B) es 59049.\n"
          ]
        }
      ]
    },
    {
      "cell_type": "code",
      "source": [
        "print(\"9. ¿Cuántas cadenas de ocho bits comienzan con 101 o con 111?\")\n",
        "#  Para las cadenas que empiecen con 101\n",
        "# 1 o 0\n",
        "opcion = 2\n",
        "\n",
        "# solo 5 bits restantes\n",
        "n = 5\n",
        "\n",
        "valores_1 = opcion ** n\n",
        "\n",
        "#  Para las cadenas que empiecen con 111\n",
        "\n",
        "opcion = 2\n",
        "n = 5\n",
        "\n",
        "valores_2 = opcion ** n\n",
        "\n",
        "print(\"La cantidad de valores posibles: \", valores_1+valores_2)"
      ],
      "metadata": {
        "id": "UVxBJCIr705T",
        "colab": {
          "base_uri": "https://localhost:8080/"
        },
        "outputId": "dcd68b80-042b-4d77-fb59-8903f1075468"
      },
      "execution_count": 18,
      "outputs": [
        {
          "output_type": "stream",
          "name": "stdout",
          "text": [
            "9. ¿Cuántas cadenas de ocho bits comienzan con 101 o con 111?\n",
            "La cantidad de valores posibles:  64\n"
          ]
        }
      ]
    },
    {
      "cell_type": "code",
      "source": [
        "import math\n",
        "\n",
        "print(\"10. Queremos codificar los símbolos alfanuméricos (28 letras y 10 cifras) en palabras de una cierta longitud k de un alfabeto binario A = {0, 1}. ¿Cuál es la mínima longitud necesaria para poderlo hacer?\")\n",
        "total_simbolos = 38 # Sumando las 28 letras y las 10 cifras\n",
        "bits_por_simbolo = math.ceil(math.log2(total_simbolos)) # Logaritmo del total en base 2 (cantidad de cifras en binario)\n",
        "\n",
        "print(\"Mínima longitud necesaria (k):\", bits_por_simbolo)"
      ],
      "metadata": {
        "id": "Onj1fJQiH8QZ",
        "colab": {
          "base_uri": "https://localhost:8080/"
        },
        "outputId": "ea39d357-f748-468d-c82e-0ca0d1f5f7a8"
      },
      "execution_count": 19,
      "outputs": [
        {
          "output_type": "stream",
          "name": "stdout",
          "text": [
            "10. Queremos codificar los símbolos alfanuméricos (28 letras y 10 cifras) en palabras de una cierta longitud k de un alfabeto binario A = {0, 1}. ¿Cuál es la mínima longitud necesaria para poderlo hacer?\n",
            "Mínima longitud necesaria (k): 6\n"
          ]
        }
      ]
    },
    {
      "cell_type": "code",
      "source": [
        "from itertools import product\n",
        "\n",
        "print(\"11. ¿Es suficiente con palabras de hasta 4 de longitud para representar todas las letras del alfabeto ordinario en lenguaje Morse (el lenguaje Morse dispone sólo de dos símbolos:punto y raya)?\")\n",
        "\n",
        "caracteres = ['.', '-']\n",
        "\n",
        "# Combinaciones con 1 de longitud\n",
        "combinaciones_1 = list(product(caracteres, repeat=1))\n",
        "\n",
        "for combinacion in combinaciones_1:\n",
        "    print(''.join(combinacion))\n",
        "\n",
        "# Combinaciones con 2 de longitud\n",
        "combinaciones_2 = list(product(caracteres, repeat=2))\n",
        "\n",
        "for combinacion in combinaciones_2:\n",
        "    print(''.join(combinacion))\n",
        "\n",
        "# Combinaciones con 3 de longitud\n",
        "combinaciones_3 = list(product(caracteres, repeat=3))\n",
        "\n",
        "for combinacion in combinaciones_3:\n",
        "    print(''.join(combinacion))\n",
        "\n",
        "# Combinaciones con 4 de longitud\n",
        "combinaciones_4 = list(product(caracteres, repeat=4))\n",
        "\n",
        "for combinacion in combinaciones_4:\n",
        "    print(''.join(combinacion))\n",
        "\n",
        "cantidad = len(combinaciones_1)+ len(combinaciones_2)+ len(combinaciones_3)+ len(combinaciones_4)\n",
        "print(\"\\nLa cantidad de letras que se pueden representar es\", cantidad)\n",
        "\n",
        "if cantidad >= 27:\n",
        "  print(\"Sí son suficientes combinaciones.\")\n",
        "else:\n",
        "  print(\"No son suficientes combinaciones.\")"
      ],
      "metadata": {
        "id": "geIAMMBR2ZWM",
        "colab": {
          "base_uri": "https://localhost:8080/"
        },
        "outputId": "5a0bc7c6-e2f0-4bac-ea9e-666e82bbc022"
      },
      "execution_count": 20,
      "outputs": [
        {
          "output_type": "stream",
          "name": "stdout",
          "text": [
            "11. ¿Es suficiente con palabras de hasta 4 de longitud para representar todas las letras del alfabeto ordinario en lenguaje Morse (el lenguaje Morse dispone sólo de dos símbolos:punto y raya)?\n",
            ".\n",
            "-\n",
            "..\n",
            ".-\n",
            "-.\n",
            "--\n",
            "...\n",
            "..-\n",
            ".-.\n",
            ".--\n",
            "-..\n",
            "-.-\n",
            "--.\n",
            "---\n",
            "....\n",
            "...-\n",
            "..-.\n",
            "..--\n",
            ".-..\n",
            ".-.-\n",
            ".--.\n",
            ".---\n",
            "-...\n",
            "-..-\n",
            "-.-.\n",
            "-.--\n",
            "--..\n",
            "--.-\n",
            "---.\n",
            "----\n",
            "\n",
            "La cantidad de letras que se pueden representar es 30\n",
            "Sí son suficientes combinaciones.\n"
          ]
        }
      ]
    },
    {
      "cell_type": "code",
      "source": [
        "print(\"12. ¿De cuántas maneras se pueden escoger tres números del 1 al 9 de manera que no salgan dos consecutivos?\")\n",
        "\n",
        "def contar_combinaciones():\n",
        "    count = 0\n",
        "    # Elegir el primer número\n",
        "    for num1 in range(1, 10):\n",
        "      # Elegir el segundo número\n",
        "        for num2 in range(1, 10):\n",
        "          # Elegir el tercer número\n",
        "            for num3 in range(1, 10):\n",
        "                # Verifica si no hay dos números consecutivos en la combinación\n",
        "                if abs(num2 - num1) > 1 and abs(num3 - num2) > 1 and abs(num3 - num1) > 1:\n",
        "                    print(num1, num2, num3)  # Opcional: muestra las combinaciones encontradas\n",
        "                    count += 1\n",
        "    return count\n",
        "\n",
        "numero_de_combinaciones = contar_combinaciones()\n",
        "print(f\"El número de combinaciones posibles sin números consecutivos es {numero_de_combinaciones}\")"
      ],
      "metadata": {
        "id": "09gurEu-Ffs6",
        "colab": {
          "base_uri": "https://localhost:8080/"
        },
        "outputId": "78f924a7-bca4-4c2e-e4ce-15261bea1062"
      },
      "execution_count": 21,
      "outputs": [
        {
          "output_type": "stream",
          "name": "stdout",
          "text": [
            "12. ¿De cuántas maneras se pueden escoger tres números del 1 al 9 de manera que no salgan dos consecutivos?\n",
            "1 3 5\n",
            "1 3 6\n",
            "1 3 7\n",
            "1 3 8\n",
            "1 3 9\n",
            "1 4 6\n",
            "1 4 7\n",
            "1 4 8\n",
            "1 4 9\n",
            "1 5 3\n",
            "1 5 7\n",
            "1 5 8\n",
            "1 5 9\n",
            "1 6 3\n",
            "1 6 4\n",
            "1 6 8\n",
            "1 6 9\n",
            "1 7 3\n",
            "1 7 4\n",
            "1 7 5\n",
            "1 7 9\n",
            "1 8 3\n",
            "1 8 4\n",
            "1 8 5\n",
            "1 8 6\n",
            "1 9 3\n",
            "1 9 4\n",
            "1 9 5\n",
            "1 9 6\n",
            "1 9 7\n",
            "2 4 6\n",
            "2 4 7\n",
            "2 4 8\n",
            "2 4 9\n",
            "2 5 7\n",
            "2 5 8\n",
            "2 5 9\n",
            "2 6 4\n",
            "2 6 8\n",
            "2 6 9\n",
            "2 7 4\n",
            "2 7 5\n",
            "2 7 9\n",
            "2 8 4\n",
            "2 8 5\n",
            "2 8 6\n",
            "2 9 4\n",
            "2 9 5\n",
            "2 9 6\n",
            "2 9 7\n",
            "3 1 5\n",
            "3 1 6\n",
            "3 1 7\n",
            "3 1 8\n",
            "3 1 9\n",
            "3 5 1\n",
            "3 5 7\n",
            "3 5 8\n",
            "3 5 9\n",
            "3 6 1\n",
            "3 6 8\n",
            "3 6 9\n",
            "3 7 1\n",
            "3 7 5\n",
            "3 7 9\n",
            "3 8 1\n",
            "3 8 5\n",
            "3 8 6\n",
            "3 9 1\n",
            "3 9 5\n",
            "3 9 6\n",
            "3 9 7\n",
            "4 1 6\n",
            "4 1 7\n",
            "4 1 8\n",
            "4 1 9\n",
            "4 2 6\n",
            "4 2 7\n",
            "4 2 8\n",
            "4 2 9\n",
            "4 6 1\n",
            "4 6 2\n",
            "4 6 8\n",
            "4 6 9\n",
            "4 7 1\n",
            "4 7 2\n",
            "4 7 9\n",
            "4 8 1\n",
            "4 8 2\n",
            "4 8 6\n",
            "4 9 1\n",
            "4 9 2\n",
            "4 9 6\n",
            "4 9 7\n",
            "5 1 3\n",
            "5 1 7\n",
            "5 1 8\n",
            "5 1 9\n",
            "5 2 7\n",
            "5 2 8\n",
            "5 2 9\n",
            "5 3 1\n",
            "5 3 7\n",
            "5 3 8\n",
            "5 3 9\n",
            "5 7 1\n",
            "5 7 2\n",
            "5 7 3\n",
            "5 7 9\n",
            "5 8 1\n",
            "5 8 2\n",
            "5 8 3\n",
            "5 9 1\n",
            "5 9 2\n",
            "5 9 3\n",
            "5 9 7\n",
            "6 1 3\n",
            "6 1 4\n",
            "6 1 8\n",
            "6 1 9\n",
            "6 2 4\n",
            "6 2 8\n",
            "6 2 9\n",
            "6 3 1\n",
            "6 3 8\n",
            "6 3 9\n",
            "6 4 1\n",
            "6 4 2\n",
            "6 4 8\n",
            "6 4 9\n",
            "6 8 1\n",
            "6 8 2\n",
            "6 8 3\n",
            "6 8 4\n",
            "6 9 1\n",
            "6 9 2\n",
            "6 9 3\n",
            "6 9 4\n",
            "7 1 3\n",
            "7 1 4\n",
            "7 1 5\n",
            "7 1 9\n",
            "7 2 4\n",
            "7 2 5\n",
            "7 2 9\n",
            "7 3 1\n",
            "7 3 5\n",
            "7 3 9\n",
            "7 4 1\n",
            "7 4 2\n",
            "7 4 9\n",
            "7 5 1\n",
            "7 5 2\n",
            "7 5 3\n",
            "7 5 9\n",
            "7 9 1\n",
            "7 9 2\n",
            "7 9 3\n",
            "7 9 4\n",
            "7 9 5\n",
            "8 1 3\n",
            "8 1 4\n",
            "8 1 5\n",
            "8 1 6\n",
            "8 2 4\n",
            "8 2 5\n",
            "8 2 6\n",
            "8 3 1\n",
            "8 3 5\n",
            "8 3 6\n",
            "8 4 1\n",
            "8 4 2\n",
            "8 4 6\n",
            "8 5 1\n",
            "8 5 2\n",
            "8 5 3\n",
            "8 6 1\n",
            "8 6 2\n",
            "8 6 3\n",
            "8 6 4\n",
            "9 1 3\n",
            "9 1 4\n",
            "9 1 5\n",
            "9 1 6\n",
            "9 1 7\n",
            "9 2 4\n",
            "9 2 5\n",
            "9 2 6\n",
            "9 2 7\n",
            "9 3 1\n",
            "9 3 5\n",
            "9 3 6\n",
            "9 3 7\n",
            "9 4 1\n",
            "9 4 2\n",
            "9 4 6\n",
            "9 4 7\n",
            "9 5 1\n",
            "9 5 2\n",
            "9 5 3\n",
            "9 5 7\n",
            "9 6 1\n",
            "9 6 2\n",
            "9 6 3\n",
            "9 6 4\n",
            "9 7 1\n",
            "9 7 2\n",
            "9 7 3\n",
            "9 7 4\n",
            "9 7 5\n",
            "El número de combinaciones posibles sin números consecutivos es 210\n"
          ]
        }
      ]
    },
    {
      "cell_type": "code",
      "source": [
        "print(\"13. Las placas de matrícula tienen cuatro dígitos numéricos seguidos de dos alfabéticos. ¿Cuántos coches se pueden matricular? Una vez se han agotado, se propone que las matrículas puedan estar formadas por seis dígitos alfanuméricos (es decir, cifras del 0 al 9 o letras de la A a la Z). ¿Cuántas matrículas nuevas se pueden hacer? Una vez agotadas estas, ¿qué estrategia proporcionaría más matrículas nuevas, hacer matrículas con 7 dígitos, o bien añadir un símbolo al alfabeto?\")\n",
        "\n",
        "# Matrículas con cuatro dígitos numéricos seguidos de dos alfabéticos\n",
        "num_matriculas_4_2 = 10**4 * 27**2\n",
        "\n",
        "# Matrículas con seis dígitos alfanuméricos\n",
        "num_matriculas_6 = 37**6\n",
        "\n",
        "\"\"\" Opciones \"\"\"\n",
        "# Matrículas con siete dígitos alfanuméricos\n",
        "num_matriculas_7 = 37**7\n",
        "\n",
        "# Matrículas añadiendo un símbolo al alfabeto\n",
        "num_matriculas_7_symbol = 38**6\n",
        "\n",
        "print(f\"Matrículas con 4 dígitos numéricos y 2 alfabéticos: {num_matriculas_4_2}\")\n",
        "print(f\"Matrículas con 6 dígitos alfanuméricos: {num_matriculas_6}\")\n",
        "print(f\"Matrículas con 7 dígitos alfanuméricos: {num_matriculas_7}\")\n",
        "print(f\"Matrículas añadiendo un símbolo al alfabeto: {num_matriculas_7_symbol}\")\n",
        "\n",
        "if num_matriculas_7 > num_matriculas_7_symbol:\n",
        "  print(\"\\nLa estrategia más conveniente sería añadir un dígito a la matrícula.\")\n",
        "else:\n",
        "  print(\"\\nLa estrategia más conveniente sería añadir un símbolo al alfabeto.\")\n"
      ],
      "metadata": {
        "id": "tN98BtRTG9Jk",
        "colab": {
          "base_uri": "https://localhost:8080/"
        },
        "outputId": "258ec3e6-7e32-4bbd-d3e0-0e5e2399b257"
      },
      "execution_count": 22,
      "outputs": [
        {
          "output_type": "stream",
          "name": "stdout",
          "text": [
            "13. Las placas de matrícula tienen cuatro dígitos numéricos seguidos de dos alfabéticos. ¿Cuántos coches se pueden matricular? Una vez se han agotado, se propone que las matrículas puedan estar formadas por seis dígitos alfanuméricos (es decir, cifras del 0 al 9 o letras de la A a la Z). ¿Cuántas matrículas nuevas se pueden hacer? Una vez agotadas estas, ¿qué estrategia proporcionaría más matrículas nuevas, hacer matrículas con 7 dígitos, o bien añadir un símbolo al alfabeto?\n",
            "Matrículas con 4 dígitos numéricos y 2 alfabéticos: 7290000\n",
            "Matrículas con 6 dígitos alfanuméricos: 2565726409\n",
            "Matrículas con 7 dígitos alfanuméricos: 94931877133\n",
            "Matrículas añadiendo un símbolo al alfabeto: 3010936384\n",
            "\n",
            "La estrategia más conveniente sería añadir un dígito a la matrícula.\n"
          ]
        }
      ]
    },
    {
      "cell_type": "code",
      "source": [
        "print(\"14. ¿Cuántos números hay entre 100 y 900 que tengan las cifras diferentes? ¿Cuántos números más grandes que 6600 con todas las cifras diferentes y sin ninguna de las cifras 7, 8 ni 9?\")\n",
        "# Contar números entre 100 y 900 con cifras diferentes\n",
        "contador_diferencia = 0\n",
        "for num in range(100, 901):\n",
        "    digitos = set(str(num))\n",
        "    if len(digitos) == 3:\n",
        "        contador_diferencia += 1\n",
        "\n",
        "# Contar números más grandes que 6600 con cifras diferentes y sin 7, 8, ni 9\n",
        "contador_789 = 0\n",
        "for num in range(6601, 10000):\n",
        "    digitos = set(str(num))\n",
        "    if len(digitos) == 4 and '7' not in digitos and '8' not in digitos and '9' not in digitos:\n",
        "        contador_789 += 1\n",
        "\n",
        "print(f\"Números entre 100 y 900 con cifras diferentes: {contador_diferencia}\")\n",
        "print(f\"Números más grandes que 6600 con cifras diferentes y sin 7, 8 ni 9: {contador_789}\")"
      ],
      "metadata": {
        "id": "Zqc2Wd4swFyk",
        "colab": {
          "base_uri": "https://localhost:8080/"
        },
        "outputId": "e070e255-cf8d-4f88-ef08-fca6a89a6935"
      },
      "execution_count": 23,
      "outputs": [
        {
          "output_type": "stream",
          "name": "stdout",
          "text": [
            "14. ¿Cuántos números hay entre 100 y 900 que tengan las cifras diferentes? ¿Cuántos números más grandes que 6600 con todas las cifras diferentes y sin ninguna de las cifras 7, 8 ni 9?\n",
            "Números entre 100 y 900 con cifras diferentes: 576\n",
            "Números más grandes que 6600 con cifras diferentes y sin 7, 8 ni 9: 0\n"
          ]
        }
      ]
    },
    {
      "cell_type": "code",
      "source": [
        "print(\"15. ¿Cuántas palabras de longitud 4 se pueden formar con las cinco vocales sin que se repita ninguna? ¿Y de longitud 5 (también sin que se repita ninguna)?\")\n",
        "\n",
        "vocales=[\"a\",\"e\",\"i\",\"o\",\"u\"]\n",
        "respuesta_4=[]\n",
        "repite=False\n",
        "\n",
        "for vocal1 in vocales:\n",
        "  for vocal2 in vocales:\n",
        "    for vocal3 in vocales:\n",
        "      for vocal4 in vocales:\n",
        "        repite=False\n",
        "        palabra=vocal1+vocal2+vocal3+vocal4\n",
        "\n",
        "        for item in palabra:\n",
        "          if palabra.count(item)>1:\n",
        "            repite=True\n",
        "            break\n",
        "        if repite is False:\n",
        "          respuesta_4.append(palabra)\n",
        "\n",
        "print(f\"De longitud 4: {len(respuesta_4)}\")\n",
        "\n",
        "respuesta_5=[]\n",
        "repite=False\n",
        "\n",
        "for vocal1 in vocales:\n",
        "  for vocal2 in vocales:\n",
        "    for vocal3 in vocales:\n",
        "      for vocal4 in vocales:\n",
        "        for vocal5 in vocales:\n",
        "          repite=False\n",
        "          palabra=vocal1+vocal2+vocal3+vocal4+vocal5\n",
        "\n",
        "          for item in palabra:\n",
        "            if palabra.count(item)>1:\n",
        "              repite=True\n",
        "              break\n",
        "\n",
        "          if repite is False:\n",
        "            respuesta_5.append(palabra)\n",
        "\n",
        "print(f\"De longitud 5: {len(respuesta_5)}\")"
      ],
      "metadata": {
        "id": "IeHSYR85LlRq",
        "colab": {
          "base_uri": "https://localhost:8080/"
        },
        "outputId": "9a65630f-73c6-478f-9426-dd48ad3d78bf"
      },
      "execution_count": 24,
      "outputs": [
        {
          "output_type": "stream",
          "name": "stdout",
          "text": [
            "15. ¿Cuántas palabras de longitud 4 se pueden formar con las cinco vocales sin que se repita ninguna? ¿Y de longitud 5 (también sin que se repita ninguna)?\n",
            "De longitud 4: 120\n",
            "De longitud 5: 120\n"
          ]
        }
      ]
    },
    {
      "cell_type": "code",
      "source": [
        "print(\"16. Un código de colores con barras usa 6 colores para pintar 4 barras, pero dos barras consecutivas no pueden tener el mismo color. ¿Cuántas palabras diferentes se pueden formar?\")\n",
        "\n",
        "colores=[*map(str,[*range(1,7)])]\n",
        "consecutivo=False\n",
        "respuesta=[]\n",
        "\n",
        "for color1 in colores:\n",
        "  for color2 in colores:\n",
        "    for color3 in colores:\n",
        "      for color4 in colores:\n",
        "        consecutivo=False\n",
        "        codigo=color1+color2+color3+color4\n",
        "\n",
        "        for item in codigo:\n",
        "          index=codigo.find(item)\n",
        "\n",
        "          if index+1==len(codigo):\n",
        "            if codigo[index]==codigo[index-1]:\n",
        "              consecutivo=True\n",
        "              break\n",
        "\n",
        "          elif index-1==-1:\n",
        "            if codigo[index]==codigo[index+1]:\n",
        "              consecutivo=True\n",
        "              break\n",
        "\n",
        "          else:\n",
        "            if codigo[index]==codigo[index+1] or codigo[index]==codigo[index-1]:\n",
        "              consecutivo=True\n",
        "              break\n",
        "\n",
        "\n",
        "        if consecutivo is False:\n",
        "            respuesta.append(codigo)\n",
        "\n",
        "print(\"Se pueden formar\", len(respuesta), \"palabras.\")"
      ],
      "metadata": {
        "id": "tOj3Ciy1MsWC",
        "colab": {
          "base_uri": "https://localhost:8080/"
        },
        "outputId": "531046a5-8e32-4df3-cfa7-62e829d3dbf2"
      },
      "execution_count": 25,
      "outputs": [
        {
          "output_type": "stream",
          "name": "stdout",
          "text": [
            "16. Un código de colores con barras usa 6 colores para pintar 4 barras, pero dos barras consecutivas no pueden tener el mismo color. ¿Cuántas palabras diferentes se pueden formar?\n",
            "Se pueden formar 780 palabras.\n"
          ]
        }
      ]
    },
    {
      "cell_type": "code",
      "source": [
        "print(\"17. En un alfabeto de 10 consonantes y 5 vocales, ¿cuántas palabras de cinco letras sin dos vocales seguidas ni tres consonantes seguidas se pueden formar?\")\n",
        "respuesta=[]\n",
        "condicion=True\n",
        "consonantes=[*map(str,[*range(10)])]\n",
        "vocales=[\"a\",\"e\",\"i\",\"o\",\"u\"]\n",
        "alfabeto=consonantes+vocales\n",
        "\n",
        "for letra1 in alfabeto:\n",
        "  for letra2 in alfabeto:\n",
        "    for letra3 in alfabeto:\n",
        "      for letra4 in alfabeto:\n",
        "        for letra5 in alfabeto:\n",
        "          palabra=letra1+letra2+letra3+letra4+letra5\n",
        "\n",
        "          for item in palabra:\n",
        "            condicion=True\n",
        "            index=palabra.find(item)\n",
        "\n",
        "            if item in consonantes:\n",
        "              if index-1==-1:\n",
        "                if(palabra[index]==palabra[index+1]==palabra[index+2]):\n",
        "                  condicion=False\n",
        "                  break\n",
        "\n",
        "              elif index+1==len(palabra):\n",
        "                if(palabra[index]==palabra[index-1]==palabra[index-2]):\n",
        "                  condicion=False\n",
        "                  break\n",
        "\n",
        "              elif index-2==-1:\n",
        "                if(palabra[index-1]==palabra[index]==palabra[index+1]):\n",
        "                  condicion=False\n",
        "                  break\n",
        "\n",
        "                if(palabra[index]==palabra[index+1]==palabra[index+2]):\n",
        "                  condicion=False\n",
        "                  break\n",
        "\n",
        "              elif index+2==len(palabra):\n",
        "                if(palabra[index-1]==palabra[index]==palabra[index+1]):\n",
        "                  condicion=False\n",
        "                  break\n",
        "\n",
        "                if(palabra[index]==palabra[index-1]==palabra[index-2]):\n",
        "                  condicion=False\n",
        "                  break\n",
        "\n",
        "              else:\n",
        "                if(palabra[index-1]==palabra[index]==palabra[index+1]):\n",
        "                  condicion=False\n",
        "                  break\n",
        "\n",
        "                if(palabra[index]==palabra[index-1]==palabra[index-2]):\n",
        "                  condicion=False\n",
        "                  break\n",
        "\n",
        "                if(palabra[index]==palabra[index+1]==palabra[index+2]):\n",
        "                  condicion=False\n",
        "                  break\n",
        "\n",
        "            else:\n",
        "              if index+1==len(palabra):\n",
        "                if palabra[index]==palabra[index-1]:\n",
        "                  condicion=False\n",
        "                  break\n",
        "\n",
        "              elif index-1==-1:\n",
        "                if palabra[index]==palabra[index+1]:\n",
        "                  condicion=False\n",
        "                  break\n",
        "\n",
        "              else:\n",
        "                if palabra[index]==palabra[index+1] or palabra[index]==palabra[index-1]:\n",
        "                  condicion=False\n",
        "                  break\n",
        "\n",
        "          if condicion is True:\n",
        "            respuesta.append(palabra)\n",
        "\n",
        "print(\"Se pueden formar\", len(respuesta), \"palabras.\")"
      ],
      "metadata": {
        "id": "Vty_8LZENEfn",
        "colab": {
          "base_uri": "https://localhost:8080/"
        },
        "outputId": "0bcc0e11-f6d8-4006-fc99-e5f9ae110d41"
      },
      "execution_count": 26,
      "outputs": [
        {
          "output_type": "stream",
          "name": "stdout",
          "text": [
            "17. En un alfabeto de 10 consonantes y 5 vocales, ¿cuántas palabras de cinco letras sin dos vocales seguidas ni tres consonantes seguidas se pueden formar?\n",
            "Se pueden formar 692960 palabras.\n"
          ]
        }
      ]
    },
    {
      "cell_type": "code",
      "source": [
        "import math\n",
        "\n",
        "print(\"18. Una empresa de sondeos escoge una muestra de 20 estudiantes al azar de entre una comunidad de 500 estudiantes para hacer una encuesta. ¿Cuántas muestras diferentes puede obtener? Uno de los estudiantes está encantado de que le pasen la encuesta. ¿Cuántas de estas muestras contienen a este estudiante?\")\n",
        "total_estudiantes = 500\n",
        "tamaño_muestra = 20\n",
        "\n",
        "muestras_diferentes = math.comb(total_estudiantes, tamaño_muestra)\n",
        "\n",
        "muestras_con_estudiante_encantado = math.comb(total_estudiantes - 1, tamaño_muestra - 1)\n",
        "\n",
        "print(f\"Número de muestras diferentes posibles: {muestras_diferentes}\")\n",
        "print(f\"Número de muestras que contienen al estudiante encantado: {muestras_con_estudiante_encantado}\")"
      ],
      "metadata": {
        "id": "hJT-FUmEQ9L-",
        "colab": {
          "base_uri": "https://localhost:8080/"
        },
        "outputId": "316a764a-1f69-4652-ee78-838c4e5bf63a"
      },
      "execution_count": 27,
      "outputs": [
        {
          "output_type": "stream",
          "name": "stdout",
          "text": [
            "18. Una empresa de sondeos escoge una muestra de 20 estudiantes al azar de entre una comunidad de 500 estudiantes para hacer una encuesta. ¿Cuántas muestras diferentes puede obtener? Uno de los estudiantes está encantado de que le pasen la encuesta. ¿Cuántas de estas muestras contienen a este estudiante?\n",
            "Número de muestras diferentes posibles: 266719851283743829654740530950952475\n",
            "Número de muestras que contienen al estudiante encantado: 10668794051349753186189621238038099\n"
          ]
        }
      ]
    },
    {
      "cell_type": "code",
      "source": [
        "import math\n",
        "\n",
        "print(\"19. ¿De cuántas maneras se pueden poner k > n bolas en n cajas de manera que cada caja contenga al menos una bola si:\")\n",
        "print(\"\\na) las bolas son distinguibles\")\n",
        "def poner_bolas_distingibles(n, k):\n",
        "    resultado = 0\n",
        "    for i in range(n + 1):\n",
        "        resultado += (-1)**i * math.comb(n, i) * (n - i)**k\n",
        "    return resultado\n",
        "\n",
        "n = 3  # Número de cajas\n",
        "k = 5  # Número de bolas\n",
        "\n",
        "maneras = poner_bolas_distingibles(n, k)\n",
        "print(f\"Maneras de poner {k} bolas en {n} cajas con bolas distinguibles: {maneras}\")\n",
        "\n",
        "print(\"\\n\\nb) las bolas no son distinguibles?\")\n",
        "def poner_bolas_no_distingibles(n, k):\n",
        "    resultado = math.comb(k-1, n-1)\n",
        "    return resultado\n",
        "\n",
        "n = 3  # Número de cajas\n",
        "k = 5  # Número de bolas\n",
        "\n",
        "maneras = poner_bolas_no_distingibles(n, k)\n",
        "print(f\"Maneras de poner {k} bolas en {n} cajas con bolas no distinguibles: {maneras}\")"
      ],
      "metadata": {
        "id": "g6VI_YM0ShcD",
        "colab": {
          "base_uri": "https://localhost:8080/"
        },
        "outputId": "65d5ec37-3d7e-44c4-99cc-e1a708272c35"
      },
      "execution_count": 28,
      "outputs": [
        {
          "output_type": "stream",
          "name": "stdout",
          "text": [
            "19. ¿De cuántas maneras se pueden poner k > n bolas en n cajas de manera que cada caja contenga al menos una bola si:\n",
            "\n",
            "a) las bolas son distinguibles\n",
            "Maneras de poner 5 bolas en 3 cajas con bolas distinguibles: 150\n",
            "\n",
            "\n",
            "b) las bolas no son distinguibles?\n",
            "Maneras de poner 5 bolas en 3 cajas con bolas no distinguibles: 6\n"
          ]
        }
      ]
    },
    {
      "cell_type": "code",
      "source": [
        "import math\n",
        "\n",
        "print(\"20. ¿De cuántas maneras se pueden poner n bolas numeradas en k cajas numeradas de manera que en cada caja haya al menos una bola? ¿Y si las bolas no están numeradas?\")\n",
        "print(\"Si las bolas están enumeradas\")\n",
        "def distribuir_bolas_numeradas(n, k):\n",
        "    if n < k:\n",
        "        return 0  # No hay suficientes bolas para llenar todas las cajas\n",
        "    resultado = math.comb(n - 1, k - 1)\n",
        "    return resultado\n",
        "\n",
        "n = 10  # Número de bolas numeradas\n",
        "k = 3  # Número de cajas numeradas\n",
        "\n",
        "maneras = distribuir_bolas_numeradas(n, k)\n",
        "print(f\"Maneras de distribuir {n} bolas numeradas en {k} cajas numeradas: {maneras}\")\n",
        "\n",
        "print(\"\\n\\nSi las bolas no están numeradas:\")\n",
        "\n",
        "def particiones(n, k):\n",
        "    if n < k:\n",
        "        return 0  # No hay suficientes bolas para llenar todas las cajas\n",
        "    if k == 1:\n",
        "        return 1  # Solo hay una manera de poner todas las bolas en una caja\n",
        "\n",
        "    dp = [[0] * (n + 1) for _ in range(k + 1)]\n",
        "\n",
        "    for i in range(1, n + 1):\n",
        "        dp[1][i] = 1\n",
        "\n",
        "    for i in range(2, k + 1):\n",
        "        for j in range(1, n + 1):\n",
        "            dp[i][j] = dp[i - 1][j - 1] + dp[i][j - i]\n",
        "\n",
        "    return dp[k][n]\n",
        "\n",
        "n = 10  # Número de bolas no numeradas\n",
        "k = 3  # Número de cajas numeradas\n",
        "\n",
        "maneras = particiones(n, k)\n",
        "print(f\"Maneras de distribuir {n} bolas no numeradas en {k} cajas numeradas: {maneras}\")"
      ],
      "metadata": {
        "id": "-9Q8-kO37vs-",
        "colab": {
          "base_uri": "https://localhost:8080/"
        },
        "outputId": "f295837a-1dc5-4e53-8813-011fd39a042b"
      },
      "execution_count": 29,
      "outputs": [
        {
          "output_type": "stream",
          "name": "stdout",
          "text": [
            "20. ¿De cuántas maneras se pueden poner n bolas numeradas en k cajas numeradas de manera que en cada caja haya al menos una bola? ¿Y si las bolas no están numeradas?\n",
            "Si las bolas están enumeradas\n",
            "Maneras de distribuir 10 bolas numeradas en 3 cajas numeradas: 36\n",
            "\n",
            "\n",
            "Si las bolas no están numeradas:\n",
            "Maneras de distribuir 10 bolas no numeradas en 3 cajas numeradas: 8\n"
          ]
        }
      ]
    },
    {
      "cell_type": "code",
      "source": [
        "import itertools\n",
        "\n",
        "print(\"21. Dados 6 enteros cualesquiera del 1 al 10, al menos dos de ellos tienen suma impar.\")\n",
        "# Función para verificar si al menos dos números en una lista suman un número impar\n",
        "def tiene_suma_impar(lista):\n",
        "    for i in range(len(lista)):\n",
        "        for j in range(i + 1, len(lista)):\n",
        "            if (lista[i] + lista[j]) % 2 == 1:\n",
        "                return True\n",
        "    return False\n",
        "\n",
        "# Generar todas las combinaciones posibles de 6 enteros del 1 al 10\n",
        "combinaciones = list(itertools.combinations(range(1, 11), 6))\n",
        "\n",
        "# Verificar si al menos dos números en cada combinación tienen suma impar\n",
        "encontrado = False\n",
        "for combinacion in combinaciones:\n",
        "    if tiene_suma_impar(combinacion):\n",
        "        encontrado = True\n",
        "        break\n",
        "\n",
        "# Imprimir el resultado\n",
        "print(combinaciones)\n",
        "if encontrado:\n",
        "    print(\"\\nSe encontró al menos una combinación de 6 enteros con dos números cuya suma es impar.\")\n",
        "else:\n",
        "    print(\"\\nNo se encontró ninguna combinación de 6 enteros con dos números cuya suma es impar.\")"
      ],
      "metadata": {
        "id": "98hsX1EWC6cg",
        "colab": {
          "base_uri": "https://localhost:8080/"
        },
        "outputId": "86c79010-14dc-4ef2-f85b-802fa655f53e"
      },
      "execution_count": 30,
      "outputs": [
        {
          "output_type": "stream",
          "name": "stdout",
          "text": [
            "21. Dados 6 enteros cualesquiera del 1 al 10, al menos dos de ellos tienen suma impar.\n",
            "[(1, 2, 3, 4, 5, 6), (1, 2, 3, 4, 5, 7), (1, 2, 3, 4, 5, 8), (1, 2, 3, 4, 5, 9), (1, 2, 3, 4, 5, 10), (1, 2, 3, 4, 6, 7), (1, 2, 3, 4, 6, 8), (1, 2, 3, 4, 6, 9), (1, 2, 3, 4, 6, 10), (1, 2, 3, 4, 7, 8), (1, 2, 3, 4, 7, 9), (1, 2, 3, 4, 7, 10), (1, 2, 3, 4, 8, 9), (1, 2, 3, 4, 8, 10), (1, 2, 3, 4, 9, 10), (1, 2, 3, 5, 6, 7), (1, 2, 3, 5, 6, 8), (1, 2, 3, 5, 6, 9), (1, 2, 3, 5, 6, 10), (1, 2, 3, 5, 7, 8), (1, 2, 3, 5, 7, 9), (1, 2, 3, 5, 7, 10), (1, 2, 3, 5, 8, 9), (1, 2, 3, 5, 8, 10), (1, 2, 3, 5, 9, 10), (1, 2, 3, 6, 7, 8), (1, 2, 3, 6, 7, 9), (1, 2, 3, 6, 7, 10), (1, 2, 3, 6, 8, 9), (1, 2, 3, 6, 8, 10), (1, 2, 3, 6, 9, 10), (1, 2, 3, 7, 8, 9), (1, 2, 3, 7, 8, 10), (1, 2, 3, 7, 9, 10), (1, 2, 3, 8, 9, 10), (1, 2, 4, 5, 6, 7), (1, 2, 4, 5, 6, 8), (1, 2, 4, 5, 6, 9), (1, 2, 4, 5, 6, 10), (1, 2, 4, 5, 7, 8), (1, 2, 4, 5, 7, 9), (1, 2, 4, 5, 7, 10), (1, 2, 4, 5, 8, 9), (1, 2, 4, 5, 8, 10), (1, 2, 4, 5, 9, 10), (1, 2, 4, 6, 7, 8), (1, 2, 4, 6, 7, 9), (1, 2, 4, 6, 7, 10), (1, 2, 4, 6, 8, 9), (1, 2, 4, 6, 8, 10), (1, 2, 4, 6, 9, 10), (1, 2, 4, 7, 8, 9), (1, 2, 4, 7, 8, 10), (1, 2, 4, 7, 9, 10), (1, 2, 4, 8, 9, 10), (1, 2, 5, 6, 7, 8), (1, 2, 5, 6, 7, 9), (1, 2, 5, 6, 7, 10), (1, 2, 5, 6, 8, 9), (1, 2, 5, 6, 8, 10), (1, 2, 5, 6, 9, 10), (1, 2, 5, 7, 8, 9), (1, 2, 5, 7, 8, 10), (1, 2, 5, 7, 9, 10), (1, 2, 5, 8, 9, 10), (1, 2, 6, 7, 8, 9), (1, 2, 6, 7, 8, 10), (1, 2, 6, 7, 9, 10), (1, 2, 6, 8, 9, 10), (1, 2, 7, 8, 9, 10), (1, 3, 4, 5, 6, 7), (1, 3, 4, 5, 6, 8), (1, 3, 4, 5, 6, 9), (1, 3, 4, 5, 6, 10), (1, 3, 4, 5, 7, 8), (1, 3, 4, 5, 7, 9), (1, 3, 4, 5, 7, 10), (1, 3, 4, 5, 8, 9), (1, 3, 4, 5, 8, 10), (1, 3, 4, 5, 9, 10), (1, 3, 4, 6, 7, 8), (1, 3, 4, 6, 7, 9), (1, 3, 4, 6, 7, 10), (1, 3, 4, 6, 8, 9), (1, 3, 4, 6, 8, 10), (1, 3, 4, 6, 9, 10), (1, 3, 4, 7, 8, 9), (1, 3, 4, 7, 8, 10), (1, 3, 4, 7, 9, 10), (1, 3, 4, 8, 9, 10), (1, 3, 5, 6, 7, 8), (1, 3, 5, 6, 7, 9), (1, 3, 5, 6, 7, 10), (1, 3, 5, 6, 8, 9), (1, 3, 5, 6, 8, 10), (1, 3, 5, 6, 9, 10), (1, 3, 5, 7, 8, 9), (1, 3, 5, 7, 8, 10), (1, 3, 5, 7, 9, 10), (1, 3, 5, 8, 9, 10), (1, 3, 6, 7, 8, 9), (1, 3, 6, 7, 8, 10), (1, 3, 6, 7, 9, 10), (1, 3, 6, 8, 9, 10), (1, 3, 7, 8, 9, 10), (1, 4, 5, 6, 7, 8), (1, 4, 5, 6, 7, 9), (1, 4, 5, 6, 7, 10), (1, 4, 5, 6, 8, 9), (1, 4, 5, 6, 8, 10), (1, 4, 5, 6, 9, 10), (1, 4, 5, 7, 8, 9), (1, 4, 5, 7, 8, 10), (1, 4, 5, 7, 9, 10), (1, 4, 5, 8, 9, 10), (1, 4, 6, 7, 8, 9), (1, 4, 6, 7, 8, 10), (1, 4, 6, 7, 9, 10), (1, 4, 6, 8, 9, 10), (1, 4, 7, 8, 9, 10), (1, 5, 6, 7, 8, 9), (1, 5, 6, 7, 8, 10), (1, 5, 6, 7, 9, 10), (1, 5, 6, 8, 9, 10), (1, 5, 7, 8, 9, 10), (1, 6, 7, 8, 9, 10), (2, 3, 4, 5, 6, 7), (2, 3, 4, 5, 6, 8), (2, 3, 4, 5, 6, 9), (2, 3, 4, 5, 6, 10), (2, 3, 4, 5, 7, 8), (2, 3, 4, 5, 7, 9), (2, 3, 4, 5, 7, 10), (2, 3, 4, 5, 8, 9), (2, 3, 4, 5, 8, 10), (2, 3, 4, 5, 9, 10), (2, 3, 4, 6, 7, 8), (2, 3, 4, 6, 7, 9), (2, 3, 4, 6, 7, 10), (2, 3, 4, 6, 8, 9), (2, 3, 4, 6, 8, 10), (2, 3, 4, 6, 9, 10), (2, 3, 4, 7, 8, 9), (2, 3, 4, 7, 8, 10), (2, 3, 4, 7, 9, 10), (2, 3, 4, 8, 9, 10), (2, 3, 5, 6, 7, 8), (2, 3, 5, 6, 7, 9), (2, 3, 5, 6, 7, 10), (2, 3, 5, 6, 8, 9), (2, 3, 5, 6, 8, 10), (2, 3, 5, 6, 9, 10), (2, 3, 5, 7, 8, 9), (2, 3, 5, 7, 8, 10), (2, 3, 5, 7, 9, 10), (2, 3, 5, 8, 9, 10), (2, 3, 6, 7, 8, 9), (2, 3, 6, 7, 8, 10), (2, 3, 6, 7, 9, 10), (2, 3, 6, 8, 9, 10), (2, 3, 7, 8, 9, 10), (2, 4, 5, 6, 7, 8), (2, 4, 5, 6, 7, 9), (2, 4, 5, 6, 7, 10), (2, 4, 5, 6, 8, 9), (2, 4, 5, 6, 8, 10), (2, 4, 5, 6, 9, 10), (2, 4, 5, 7, 8, 9), (2, 4, 5, 7, 8, 10), (2, 4, 5, 7, 9, 10), (2, 4, 5, 8, 9, 10), (2, 4, 6, 7, 8, 9), (2, 4, 6, 7, 8, 10), (2, 4, 6, 7, 9, 10), (2, 4, 6, 8, 9, 10), (2, 4, 7, 8, 9, 10), (2, 5, 6, 7, 8, 9), (2, 5, 6, 7, 8, 10), (2, 5, 6, 7, 9, 10), (2, 5, 6, 8, 9, 10), (2, 5, 7, 8, 9, 10), (2, 6, 7, 8, 9, 10), (3, 4, 5, 6, 7, 8), (3, 4, 5, 6, 7, 9), (3, 4, 5, 6, 7, 10), (3, 4, 5, 6, 8, 9), (3, 4, 5, 6, 8, 10), (3, 4, 5, 6, 9, 10), (3, 4, 5, 7, 8, 9), (3, 4, 5, 7, 8, 10), (3, 4, 5, 7, 9, 10), (3, 4, 5, 8, 9, 10), (3, 4, 6, 7, 8, 9), (3, 4, 6, 7, 8, 10), (3, 4, 6, 7, 9, 10), (3, 4, 6, 8, 9, 10), (3, 4, 7, 8, 9, 10), (3, 5, 6, 7, 8, 9), (3, 5, 6, 7, 8, 10), (3, 5, 6, 7, 9, 10), (3, 5, 6, 8, 9, 10), (3, 5, 7, 8, 9, 10), (3, 6, 7, 8, 9, 10), (4, 5, 6, 7, 8, 9), (4, 5, 6, 7, 8, 10), (4, 5, 6, 7, 9, 10), (4, 5, 6, 8, 9, 10), (4, 5, 7, 8, 9, 10), (4, 6, 7, 8, 9, 10), (5, 6, 7, 8, 9, 10)]\n",
            "\n",
            "Se encontró al menos una combinación de 6 enteros con dos números cuya suma es impar.\n"
          ]
        }
      ]
    },
    {
      "cell_type": "code",
      "source": [
        "import random\n",
        "\n",
        "print(\"22. Consideremos un conjunto de 12 números naturales. ¿Es posible elegir dos de ellos cuya diferencia sea múltiplo de 11?\")\n",
        "buscar=False\n",
        "\n",
        "while buscar is False:\n",
        "  numero1=random.randint(1,12)\n",
        "  numero2=random.randint(1,12)\n",
        "\n",
        "  diferencia=abs(numero1-numero2)\n",
        "\n",
        "  if diferencia%11==0 and diferencia != 0:\n",
        "    buscar=True\n",
        "    print(f\"Números: {numero1},{numero2}\")"
      ],
      "metadata": {
        "id": "xEqon5r0C7wB",
        "colab": {
          "base_uri": "https://localhost:8080/"
        },
        "outputId": "dcecadc3-68f6-4ce7-c944-dfc1a5aca6f8"
      },
      "execution_count": 31,
      "outputs": [
        {
          "output_type": "stream",
          "name": "stdout",
          "text": [
            "22. Consideremos un conjunto de 12 números naturales. ¿Es posible elegir dos de ellos cuya diferencia sea múltiplo de 11?\n",
            "Números: 12,1\n"
          ]
        }
      ]
    },
    {
      "cell_type": "code",
      "source": [
        "import math\n",
        "\n",
        "print(\"23. La música serial se basa en el principio de que en cualquier línea melódica han de aparecer los 12 tonos de la escala antes de repetirse alguno. ¿Cuántas líneas melódicas de 12 notas se pueden formar según este principio?\")\n",
        "# Calcular el número de líneas melódicas de 12 notas\n",
        "numero_lineas_melodicas = math.factorial(12)\n",
        "\n",
        "print(f\"El número de líneas melódicas de 12 notas posibles es: {numero_lineas_melodicas}\")"
      ],
      "metadata": {
        "id": "ZQvmofOqDAJs",
        "colab": {
          "base_uri": "https://localhost:8080/"
        },
        "outputId": "ecf8042b-c537-4fbc-a9d5-63c9c94b2cea"
      },
      "execution_count": 32,
      "outputs": [
        {
          "output_type": "stream",
          "name": "stdout",
          "text": [
            "23. La música serial se basa en el principio de que en cualquier línea melódica han de aparecer los 12 tonos de la escala antes de repetirse alguno. ¿Cuántas líneas melódicas de 12 notas se pueden formar según este principio?\n",
            "El número de líneas melódicas de 12 notas posibles es: 479001600\n"
          ]
        }
      ]
    },
    {
      "cell_type": "code",
      "source": [
        "import random\n",
        "import math\n",
        "\n",
        "print(\"24. Si se colocan 51 puntos en un cuadrado de lado uno, prueba que tres de ellos se encuentran en un círculo de radio 1/7.\")\n",
        "# Función para calcular la distancia entre dos puntos\n",
        "def distancia(p1, p2):\n",
        "    return math.sqrt((p1[0] - p2[0])**2 + (p1[1] - p2[1])**2)\n",
        "\n",
        "# Función para verificar si al menos tres puntos están dentro de un círculo de radio r\n",
        "def tres_puntos_en_circulo(puntos, r):\n",
        "    for i in range(len(puntos)):\n",
        "        for j in range(i + 1, len(puntos)):\n",
        "            for k in range(j + 1, len(puntos)):\n",
        "                # Comprueba si los tres puntos forman un triángulo con todos los lados menores o iguales a 2*r\n",
        "                if (distancia(puntos[i], puntos[j]) <= 2*r and\n",
        "                    distancia(puntos[j], puntos[k]) <= 2*r and\n",
        "                    distancia(puntos[i], puntos[k]) <= 2*r):\n",
        "                    return True\n",
        "    return False\n",
        "\n",
        "# Generar 51 puntos aleatorios dentro de un cuadrado de lado 1\n",
        "n = 51\n",
        "puntos = [(random.uniform(0, 1), random.uniform(0, 1)) for _ in range(n)]\n",
        "\n",
        "# Radio del círculo\n",
        "radio = 1/7\n",
        "\n",
        "print(puntos)\n",
        "# Verificar si al menos tres puntos están dentro de un círculo de radio 1/7\n",
        "if tres_puntos_en_circulo(puntos, radio):\n",
        "    print(\"\\nAl menos tres puntos se encuentran en un círculo de radio 1/7.\")\n",
        "else:\n",
        "    print(\"\\nNo se cumple la condición.\")\n"
      ],
      "metadata": {
        "id": "ABmsP3K_DBgA",
        "colab": {
          "base_uri": "https://localhost:8080/"
        },
        "outputId": "671a881a-dcf5-45c0-ef05-e82a6081e16b"
      },
      "execution_count": 33,
      "outputs": [
        {
          "output_type": "stream",
          "name": "stdout",
          "text": [
            "24. Si se colocan 51 puntos en un cuadrado de lado uno, prueba que tres de ellos se encuentran en un círculo de radio 1/7.\n",
            "[(0.7059181876228691, 0.5797974802692725), (0.40375295168487246, 0.2186530475629096), (0.8950998506245101, 0.4450975352979343), (0.1893085297027005, 0.6534366192425848), (0.8759098024454441, 0.28506438231080555), (0.7003153704270834, 0.92719671518686), (0.3655720755268752, 0.8538765305632913), (0.5796533555699428, 0.32530316920042257), (0.01192824555126204, 0.06580542852400906), (0.053912167165069746, 0.8645401249420774), (0.4306821954314155, 0.7458236791478747), (0.5882685626029943, 0.6481257562493906), (0.6338922845169725, 0.5166960429073617), (0.5019624638024706, 0.2198189595416148), (0.18130749287945147, 0.25344215834853745), (0.9540891023778479, 0.9316862073406713), (0.05018441676635654, 0.8110546372131131), (0.7842691410464407, 0.9470401003100133), (0.6205125146145165, 0.31172751013248834), (0.7889519426235955, 0.23396190720887167), (0.5660282590008581, 0.3823129219032695), (0.06612073464290669, 0.1278859677262234), (0.6663194715023126, 0.7766508757059712), (0.1469801313640341, 0.9236615544292843), (0.7126781457389157, 0.5846292738488988), (0.9195478552851962, 0.9757343890743458), (0.30000815647150414, 0.18264031015058446), (0.4100437935748008, 0.99701655944313), (0.2693749268755137, 0.6973369896116707), (0.012130503653635771, 0.2290786110571038), (0.5686291071102793, 0.34363552836283795), (0.5363861028356244, 0.8025367581309192), (0.591613001243349, 0.16075481481473342), (0.773357714080403, 0.12454675050312936), (0.7783582447154316, 0.24086065632760734), (0.5132679824277622, 0.9954590688912152), (0.05948615617576836, 0.6689771536570703), (0.6546391351416343, 0.8513727816103426), (0.17127686393154673, 0.9190148552793188), (0.48482180169307576, 0.15484627731561396), (0.266552310608678, 0.6850503637379428), (0.3999873013450923, 0.9536683775794087), (0.7799148898565589, 0.30072058400661394), (0.7874740589527223, 0.8262258720585397), (0.3879385201687058, 0.8102752733593985), (0.3966468609140824, 0.32690555365036766), (0.3083998775436225, 0.2845977719466396), (0.2852527238147591, 0.9390962440696119), (0.7206236586130795, 0.8192958708335449), (0.678196247656984, 0.12888763241278578), (0.4895646748504331, 0.751295366133266)]\n",
            "\n",
            "Al menos tres puntos se encuentran en un círculo de radio 1/7.\n"
          ]
        }
      ]
    },
    {
      "cell_type": "code",
      "source": [
        "print(\"25. Si escogemos n+1 elementos del conjunto de enteros consecutivos {1, 2,..., 2n}, probar que dos de ellos son primos entre sí.\")\n",
        "\n",
        "def es_primo(num):\n",
        "    if num <= 1:\n",
        "        return False\n",
        "    if num == 2:\n",
        "        return True\n",
        "    if num % 2 == 0:\n",
        "        return False\n",
        "    for i in range(3, int(num**0.5) + 1, 2):\n",
        "        if num % i == 0:\n",
        "            return False\n",
        "    return True\n",
        "\n",
        "def prueba_primos_entre_si(n):\n",
        "    numeros_impares = [2 * i + 1 for i in range(n)]\n",
        "\n",
        "    for i in range(n + 1):\n",
        "        for j in range(i + 1, n + 1):\n",
        "            if es_primo(numeros_impares[i]) and es_primo(numeros_impares[j]):\n",
        "                print(f\"Los números {numeros_impares[i]} y {numeros_impares[j]} son primos entre sí.\")\n",
        "                return\n",
        "\n",
        "    print(\"No se encontraron dos números primos entre sí en la selección.\")\n",
        "\n",
        "n = int(input(\"Ingrese n: \"))  # Puedes ajustar n según tu requerimiento\n",
        "prueba_primos_entre_si(n)"
      ],
      "metadata": {
        "id": "-QtsNp-bDE9K",
        "colab": {
          "base_uri": "https://localhost:8080/"
        },
        "outputId": "5a6d4e47-f26d-4e9d-8545-ae6da27e8c1d"
      },
      "execution_count": 34,
      "outputs": [
        {
          "output_type": "stream",
          "name": "stdout",
          "text": [
            "25. Si escogemos n+1 elementos del conjunto de enteros consecutivos {1, 2,..., 2n}, probar que dos de ellos son primos entre sí.\n",
            "Ingrese n: 45\n",
            "Los números 3 y 5 son primos entre sí.\n"
          ]
        }
      ]
    },
    {
      "cell_type": "code",
      "source": [
        "limite = 50\n",
        "a = 2\n",
        "b = 3\n",
        "\n",
        "print(\"26. ¿Cuántos números enteros positivos, menores o iguales que 50, hay que sean múltiplos de 2 o múltiplos de 3?\")\n",
        "\n",
        "def conteo(numero, multiplo):\n",
        "  numero_mayor = numero // multiplo\n",
        "  limite_superior = numero_mayor * multiplo\n",
        "  cantidad = ((limite_superior - multiplo)/multiplo) + 1\n",
        "  return cantidad\n",
        "\n",
        "#|X ∪ Y| = |X| + |Y| − |X ∩ Y|\n",
        "\n",
        "cantidad_z = conteo(limite, a) + conteo(limite, b) - conteo(limite, a*b)\n",
        "print(\"Cantidad de Z+ menores o iguales a 50: \", int(cantidad_z))"
      ],
      "metadata": {
        "id": "pg8rPJR0DF37",
        "colab": {
          "base_uri": "https://localhost:8080/"
        },
        "outputId": "0cca004e-3ad2-4a49-f458-1500334e6c08"
      },
      "execution_count": 35,
      "outputs": [
        {
          "output_type": "stream",
          "name": "stdout",
          "text": [
            "26. ¿Cuántos números enteros positivos, menores o iguales que 50, hay que sean múltiplos de 2 o múltiplos de 3?\n",
            "Cantidad de Z+ menores o iguales a 50:  33\n"
          ]
        }
      ]
    },
    {
      "cell_type": "code",
      "source": [
        "print(\"27. En un armario tenemos guardados los calcetines sueltos. Sabemos que tenemos calcetines de tres colores diferentes. Sin encender la luz, necesitamos saber cuántos calcetines debemos sacar del armario para estar seguros de que habrá al menos dos del mismo color.\")\n",
        "def calcetines_minimos_para_coincidencia(num_colores):\n",
        "    return num_colores + 1\n",
        "\n",
        "num_colores = 3  # Número de colores de calcetines\n",
        "num_minimo_calcetines = calcetines_minimos_para_coincidencia(num_colores)\n",
        "\n",
        "print(f\"El número mínimo de calcetines para asegurar que haya al menos dos del mismo color es {num_minimo_calcetines}.\")"
      ],
      "metadata": {
        "id": "4WiAbr9eAwFZ",
        "colab": {
          "base_uri": "https://localhost:8080/"
        },
        "outputId": "d2d36bdf-6726-4bc4-a9ca-c47063ed527d"
      },
      "execution_count": 36,
      "outputs": [
        {
          "output_type": "stream",
          "name": "stdout",
          "text": [
            "27. En un armario tenemos guardados los calcetines sueltos. Sabemos que tenemos calcetines de tres colores diferentes. Sin encender la luz, necesitamos saber cuántos calcetines debemos sacar del armario para estar seguros de que habrá al menos dos del mismo color.\n",
            "El número mínimo de calcetines para asegurar que haya al menos dos del mismo color es 4.\n"
          ]
        }
      ]
    },
    {
      "cell_type": "code",
      "source": [
        "import scipy.stats as st\n",
        "import numpy as np\n",
        "import scipy.stats as st\n",
        "import matplotlib.pyplot as plt\n",
        "import seaborn as sns\n",
        "from IPython.display import HTML, Markdown\n",
        "\n",
        "print(\"28. En cualquier momento, siempre hay en Nueva York al menos dos personas con el mismo número de cabellos.\")\n",
        "# datos\n",
        "pob_nueva_york = 8468000\n",
        "numero_maximo_de_pelos = 5000000\n",
        "int: n = round(pob_nueva_york / numero_maximo_de_pelos)\n",
        "\n",
        "#Usando el principio del palomar:\n",
        "print(\"pob_nueva_york: Palomas\")\n",
        "print(\"numero_maximo_de_pelos: Palomares\")\n",
        "\n",
        "if(pob_nueva_york > numero_maximo_de_pelos):\n",
        "  print(f\"Habrá por lo menos {n} personas con el mismo número de cabellos\")\n",
        "else:\n",
        "  print(\"No habrán 2 personas con el mismo número de cabellos\")\n",
        "\n"
      ],
      "metadata": {
        "id": "zppQ5llU_T5r",
        "colab": {
          "base_uri": "https://localhost:8080/"
        },
        "outputId": "d3f2e8a3-8479-4387-f9bd-b082d57c2b30"
      },
      "execution_count": 79,
      "outputs": [
        {
          "output_type": "stream",
          "name": "stdout",
          "text": [
            "28. En cualquier momento, siempre hay en Nueva York al menos dos personas con el mismo número de cabellos.\n",
            "pob_nueva_york: Palomas\n",
            "numero_maximo_de_pelos: Palomares\n",
            "Habrá por lo menos 2 personas con el mismo número de cabellos\n"
          ]
        }
      ]
    },
    {
      "cell_type": "code",
      "source": [
        "import random\n",
        "\n",
        "print(\"29. Tenemos un tablero rectangular con n×m casillas (n filas y m columnas). En cada casilla escribimos un entero positivo y podemos realizar una de las dos siguientes operaciones:\")\n",
        "print(\" 1. Multiplicar todos los números de una misma fila por 2.\")\n",
        "print(\" 2. Restar 1 a cada uno de los números de una misma columna.\")\n",
        "print(\"¿Es posible, tras una sucesión adecuada de estas operaciones, que todos los números del tablero sean iguales a 0?\")\n",
        "\n",
        "def es_posible_igualar_a_cero(n, m, tablero):\n",
        "    # Comprobar si hay al menos una diferencia relativa en las filas\n",
        "    for fila in tablero:\n",
        "        if len(set(fila)) > 1:\n",
        "            return False\n",
        "\n",
        "    # Comprobar si hay al menos una diferencia relativa en las columnas\n",
        "    for j in range(m):\n",
        "        columna = [tablero[i][j] for i in range(n)]\n",
        "        if len(set(columna)) > 1:\n",
        "            return False\n",
        "\n",
        "    return True\n",
        "\n",
        "n = 3  # Número de filas\n",
        "m = 4  # Número de columnas\n",
        "\n",
        "# Generar un tablero aleatorio con valores entre 1 y 10\n",
        "tablero = [[random.randint(1, 10) for _ in range(m)] for _ in range(n)]\n",
        "\n",
        "# Imprimir el tablero\n",
        "for fila in tablero:\n",
        "    print(fila)\n",
        "\n",
        "resultado = es_posible_igualar_a_cero(n, m, tablero)\n",
        "if resultado:\n",
        "    print(\"Es posible igualar todos los números a 0.\")\n",
        "else:\n",
        "    print(\"No es posible igualar todos los números a 0.\")"
      ],
      "metadata": {
        "id": "5Y-AKo2CE-xX",
        "colab": {
          "base_uri": "https://localhost:8080/"
        },
        "outputId": "4c35b63e-87a8-457d-d7d6-98f190359541"
      },
      "execution_count": 38,
      "outputs": [
        {
          "output_type": "stream",
          "name": "stdout",
          "text": [
            "29. Tenemos un tablero rectangular con n×m casillas (n filas y m columnas). En cada casilla escribimos un entero positivo y podemos realizar una de las dos siguientes operaciones:\n",
            " 1. Multiplicar todos los números de una misma fila por 2.\n",
            " 2. Restar 1 a cada uno de los números de una misma columna.\n",
            "¿Es posible, tras una sucesión adecuada de estas operaciones, que todos los números del tablero sean iguales a 0?\n",
            "[4, 2, 5, 9]\n",
            "[10, 10, 4, 4]\n",
            "[9, 8, 2, 8]\n",
            "No es posible igualar todos los números a 0.\n"
          ]
        }
      ]
    },
    {
      "cell_type": "code",
      "source": [
        "from itertools import combinations\n",
        "\n",
        "print(\"30. El conjunto de números {1, 2, 3, 4, 5, 6, 7, 8, 9} se divide en tres grupos. Probar que el producto de los números de alguno de estos grupos es mayor que 71.\")\n",
        "# Conjunto de números\n",
        "numeros = {1, 2, 3, 4, 5, 6, 7, 8, 9}\n",
        "\n",
        "# Inicializamos una variable para rastrear si encontramos un grupo con producto mayor que 71\n",
        "encontrado_grupo = False\n",
        "\n",
        "# Generamos todas las combinaciones posibles de división en tres grupos\n",
        "for grupo1 in combinations(numeros, 3):\n",
        "    print(grupo1)\n",
        "    numeros_restantes1 = numeros.difference(grupo1)\n",
        "    for grupo2 in combinations(numeros_restantes1, 3):\n",
        "        print(grupo2)\n",
        "        grupo3 = numeros.difference(grupo1, grupo2)\n",
        "        print(grupo3)\n",
        "\n",
        "        # Calculamos el producto de cada grupo\n",
        "        producto_grupo1 = 1\n",
        "        producto_grupo2 = 1\n",
        "        producto_grupo3 = 1\n",
        "        for num in grupo1:\n",
        "            producto_grupo1 *= num\n",
        "        for num in grupo2:\n",
        "            producto_grupo2 *= num\n",
        "        for num in grupo3:\n",
        "            producto_grupo3 *= num\n",
        "\n",
        "        # Comprobamos si alguno de los grupos tiene un producto mayor que 71\n",
        "        if producto_grupo1 > 71 or producto_grupo2 > 71 or producto_grupo3 > 71:\n",
        "            encontrado_grupo = True\n",
        "            break\n",
        "\n",
        "    if encontrado_grupo:\n",
        "        break\n",
        "\n",
        "# Verificamos el resultado\n",
        "if encontrado_grupo:\n",
        "    print(\"Se encontró al menos un grupo cuyo producto es mayor que 71.\")\n",
        "else:\n",
        "    print(\"No se encontró ningún grupo cuyo producto sea mayor que 71.\")"
      ],
      "metadata": {
        "id": "416khoTvZtg-",
        "colab": {
          "base_uri": "https://localhost:8080/"
        },
        "outputId": "d10e7330-f687-4fd2-ad93-1f447d4bd054"
      },
      "execution_count": 39,
      "outputs": [
        {
          "output_type": "stream",
          "name": "stdout",
          "text": [
            "30. El conjunto de números {1, 2, 3, 4, 5, 6, 7, 8, 9} se divide en tres grupos. Probar que el producto de los números de alguno de estos grupos es mayor que 71.\n",
            "(1, 2, 3)\n",
            "(4, 5, 6)\n",
            "{7, 8, 9}\n",
            "Se encontró al menos un grupo cuyo producto es mayor que 71.\n"
          ]
        }
      ]
    },
    {
      "cell_type": "code",
      "source": [
        "print(\"31. Una caja contiene 900 tarjetas, numeradas del 100 al 999. Se extraen al azar tarjetas de la caja y se anota\")\n",
        "print(\"la suma de las cifras de cada tarjeta. ¿Cuál es la menor cantidad de tarjetas que se deben sacar para garantizar\")\n",
        "print(\"que al menos tres de las sumas son iguales?\")\n",
        "\n",
        "agregar_valores={}\n",
        "\n",
        "for numero in range(100,1000):\n",
        "  strNum=str(numero)\n",
        "  nDigits=len(strNum)\n",
        "\n",
        "  digitAdd=0\n",
        "  for index in range(nDigits):\n",
        "    digitAdd+=int(strNum[index])\n",
        "\n",
        "  strAdd=str(digitAdd)\n",
        "\n",
        "  if strAdd in agregar_valores:\n",
        "    agregar_valores[strAdd]+=1\n",
        "  else:\n",
        "    agregar_valores[strAdd]=1\n",
        "\n",
        "\n",
        "respuesta=0\n",
        "contador=0\n",
        "print(\"Suma de digitos: Repeticiones\")\n",
        "for key,value in agregar_valores.items():\n",
        "  print(f\"{key}:{value}\")\n",
        "\n",
        "  if(value<3):\n",
        "    contador+=1\n",
        "    respuesta+=value\n",
        "\n",
        "respuesta = respuesta + (len(agregar_valores)-contador)*2\n",
        "print(f\"Resultado: {respuesta}\")"
      ],
      "metadata": {
        "id": "h9-SpJlUVDbK",
        "colab": {
          "base_uri": "https://localhost:8080/"
        },
        "outputId": "1994a2f7-addf-4023-a458-05fcef88cbd2"
      },
      "execution_count": 40,
      "outputs": [
        {
          "output_type": "stream",
          "name": "stdout",
          "text": [
            "31. Una caja contiene 900 tarjetas, numeradas del 100 al 999. Se extraen al azar tarjetas de la caja y se anota\n",
            "la suma de las cifras de cada tarjeta. ¿Cuál es la menor cantidad de tarjetas que se deben sacar para garantizar\n",
            "que al menos tres de las sumas son iguales?\n",
            "Suma de digitos: Repeticiones\n",
            "1:1\n",
            "2:3\n",
            "3:6\n",
            "4:10\n",
            "5:15\n",
            "6:21\n",
            "7:28\n",
            "8:36\n",
            "9:45\n",
            "10:54\n",
            "11:61\n",
            "12:66\n",
            "13:69\n",
            "14:70\n",
            "15:69\n",
            "16:66\n",
            "17:61\n",
            "18:54\n",
            "19:45\n",
            "20:36\n",
            "21:28\n",
            "22:21\n",
            "23:15\n",
            "24:10\n",
            "25:6\n",
            "26:3\n",
            "27:1\n",
            "Resultado: 52\n"
          ]
        }
      ]
    },
    {
      "cell_type": "code",
      "source": [
        "import random\n",
        "import pprint\n",
        "\n",
        "print(\"32. Con 21 fichas de damas, unas negras y otras blancas, se forma un rectángulo de tamaño 3x7. Demostrar que \")\n",
        "print(\"siempre hay cuatro fichas del mismo color situadas en los vértices de un rectángulo.\")\n",
        "\n",
        "fichas=[\"N\",\"B\"]\n",
        "inicio=random.choice(fichas)\n",
        "\n",
        "tablero=[]\n",
        "\n",
        "for nFila in range(0,3):\n",
        "  fila=[]\n",
        "\n",
        "  for nColumna in range(0,7):\n",
        "    if nFila==0:\n",
        "      if nColumna==0:\n",
        "        fila.append(inicio)\n",
        "\n",
        "      else:\n",
        "        if fila[nColumna-1]==\"N\":\n",
        "          fila.append(\"B\")\n",
        "        else:\n",
        "          fila.append(\"N\")\n",
        "\n",
        "    else:\n",
        "      if tablero[nFila-1][nColumna]==\"N\":\n",
        "          fila.append(\"B\")\n",
        "\n",
        "      else:\n",
        "          fila.append(\"N\")\n",
        "\n",
        "  tablero.append(fila)\n",
        "\n",
        "\n",
        "pp=pprint.PrettyPrinter()\n",
        "pp.pprint(tablero)"
      ],
      "metadata": {
        "id": "RPuPbl2yVV4D",
        "colab": {
          "base_uri": "https://localhost:8080/"
        },
        "outputId": "8df740d0-2263-4812-c174-80fc0edd4175"
      },
      "execution_count": 41,
      "outputs": [
        {
          "output_type": "stream",
          "name": "stdout",
          "text": [
            "32. Con 21 fichas de damas, unas negras y otras blancas, se forma un rectángulo de tamaño 3x7. Demostrar que \n",
            "siempre hay cuatro fichas del mismo color situadas en los vértices de un rectángulo.\n",
            "[['B', 'N', 'B', 'N', 'B', 'N', 'B'],\n",
            " ['N', 'B', 'N', 'B', 'N', 'B', 'N'],\n",
            " ['B', 'N', 'B', 'N', 'B', 'N', 'B']]\n"
          ]
        }
      ]
    },
    {
      "cell_type": "code",
      "source": [
        "import random\n",
        "\n",
        "print(\"33. Probar que existen dos potencias de 3 cuya diferencia es divisible por 1997.\")\n",
        "buscar=False\n",
        "\n",
        "while buscar is False:\n",
        "  potencia1=random.randint(1,200)\n",
        "  potencia2=random.randint(1,200)\n",
        "\n",
        "  numero1=pow(3,potencia1)\n",
        "  numero2=pow(3,potencia2)\n",
        "\n",
        "  diferencia=abs(numero1-numero2)\n",
        "\n",
        "  if diferencia%1997==0:\n",
        "    buscar=True\n",
        "    print(f\"Números: {numero1},{numero2}\")"
      ],
      "metadata": {
        "id": "nszMFdZ2Vn22",
        "colab": {
          "base_uri": "https://localhost:8080/"
        },
        "outputId": "876a708e-967a-4523-9d08-89f6e60069da"
      },
      "execution_count": 42,
      "outputs": [
        {
          "output_type": "stream",
          "name": "stdout",
          "text": [
            "33. Probar que existen dos potencias de 3 cuya diferencia es divisible por 1997.\n",
            "Números: 125236737537878753441860054533045969266612127846243,125236737537878753441860054533045969266612127846243\n"
          ]
        }
      ]
    },
    {
      "cell_type": "markdown",
      "source": [],
      "metadata": {
        "id": "Jso1MQ-CCCwj"
      }
    },
    {
      "cell_type": "code",
      "source": [
        "import random\n",
        "\n",
        "print(\"34. Probar que existe alguna potencia de 3 que termina en 001.\")\n",
        "buscar=False\n",
        "\n",
        "while buscar is False:\n",
        "  potencia=random.randint(1,200)\n",
        "  numero=pow(3,potencia)\n",
        "\n",
        "  if numero%1000==1:\n",
        "    buscar=True\n",
        "    print(f\"Número: {numero}\")"
      ],
      "metadata": {
        "colab": {
          "base_uri": "https://localhost:8080/"
        },
        "id": "mnUMukExYz2y",
        "outputId": "6f9e87d3-494d-4e0b-9efb-92fb0829eb39"
      },
      "execution_count": 43,
      "outputs": [
        {
          "output_type": "stream",
          "name": "stdout",
          "text": [
            "34. Probar que existe alguna potencia de 3 que termina en 001.\n",
            "Número: 515377520732011331036461129765621272702107522001\n"
          ]
        }
      ]
    },
    {
      "cell_type": "code",
      "source": [
        "import random\n",
        "import math\n",
        "\n",
        "print(\"35. Dados 6 puntos en el interior de un círculo de radio 1, existe al menos un par de ellos cuya distancia es\")\n",
        "print(\"menor o igual a 1.\")\n",
        "# Función para calcular la distancia entre dos puntos (coordenadas)\n",
        "def distancia(p1, p2):\n",
        "    return math.sqrt((p1[0] - p2[0])**2 + (p1[1] - p2[1])**2)\n",
        "\n",
        "# Genera 6 puntos aleatorios dentro del círculo de radio 1\n",
        "puntos = [(random.uniform(-1, 1), random.uniform(-1, 1)) for _ in range(6)]\n",
        "\n",
        "print(puntos)\n",
        "# Realiza la comprobación de la afirmación\n",
        "cumple_afirmacion = False\n",
        "\n",
        "for i in range(5):\n",
        "    for j in range(i + 1, 6):\n",
        "        if distancia(puntos[i], puntos[j]) <= 1:\n",
        "            cumple_afirmacion = True\n",
        "            break\n",
        "\n",
        "if cumple_afirmacion:\n",
        "    print(\"\\nLa afirmación es cierta. Existe al menos un par de puntos cuya distancia es menor o igual a 1.\")\n",
        "else:\n",
        "    print(\"\\nLa afirmación no se cumple. No existe ningún par de puntos cuya distancia sea menor o igual a 1.\")"
      ],
      "metadata": {
        "colab": {
          "base_uri": "https://localhost:8080/"
        },
        "id": "nvAfpStkdy1c",
        "outputId": "ae7905ef-7f26-4453-c5ef-113d53fa1345"
      },
      "execution_count": 44,
      "outputs": [
        {
          "output_type": "stream",
          "name": "stdout",
          "text": [
            "35. Dados 6 puntos en el interior de un círculo de radio 1, existe al menos un par de ellos cuya distancia es\n",
            "menor o igual a 1.\n",
            "[(0.9784090118912121, -0.7037408693122518), (-0.3391253750355179, 0.5591054347615909), (0.9001225631427447, 0.3318953698280569), (0.45276397446757644, 0.8648013547539954), (0.6212854001956167, 0.9072205713628541), (-0.5707132422592598, 0.7049314307822314)]\n",
            "\n",
            "La afirmación es cierta. Existe al menos un par de puntos cuya distancia es menor o igual a 1.\n"
          ]
        }
      ]
    },
    {
      "cell_type": "markdown",
      "source": [],
      "metadata": {
        "id": "ZD5PBLt1CCo0"
      }
    },
    {
      "cell_type": "code",
      "source": [
        "import random\n",
        "\n",
        "print(\"36. Dados 2020 números enteros cualesquiera, prueba que siempre podemos encontrar dos de ellos cuya diferencia es\")\n",
        "print(\"divisible por 2019.\")\n",
        "buscar=False\n",
        "\n",
        "while buscar is False:\n",
        "  numero1=random.randint(1,2020)\n",
        "  numero2=random.randint(1,2020)\n",
        "\n",
        "  diferencia=abs(numero1-numero2)\n",
        "\n",
        "  if diferencia%2019==0 and diferencia != 0:\n",
        "    buscar=True\n",
        "    print(f\"Números: {numero1},{numero2}\")"
      ],
      "metadata": {
        "id": "WIGeyXZYqTO8",
        "colab": {
          "base_uri": "https://localhost:8080/"
        },
        "outputId": "94598ee1-512c-49af-9411-0d1b41caad33"
      },
      "execution_count": 45,
      "outputs": [
        {
          "output_type": "stream",
          "name": "stdout",
          "text": [
            "36. Dados 2020 números enteros cualesquiera, prueba que siempre podemos encontrar dos de ellos cuya diferencia es\n",
            "divisible por 2019.\n",
            "Números: 2020,1\n"
          ]
        }
      ]
    },
    {
      "cell_type": "code",
      "source": [
        "print(\"37. En una pizarra están escritos los números del 1 al 100. Nos está permitido borrar dos números cualesquiera \")\n",
        "print(\"a y b y sustituirlos por a + b − 1. Si repetimos el proceso hasta que solo quede un número, ¿qué número quedará \")\n",
        "print(\"escrito en la pizarra?\")\n",
        "\n",
        "# Inicializamos una lista con los números del 1 al 100\n",
        "pizarra = list(range(1, 101))\n",
        "\n",
        "# Realizamos el proceso de eliminación y sustitución hasta que quede un número\n",
        "while len(pizarra) > 1:\n",
        "    # Tomamos los dos primeros números de la lista\n",
        "    a = pizarra.pop(0)\n",
        "    b = pizarra.pop(0)\n",
        "\n",
        "    # Calculamos a + b - 1 y lo agregamos de nuevo a la lista\n",
        "    resultado = a + b - 1\n",
        "    pizarra.append(resultado)\n",
        "\n",
        "# El resultado final será el único número que queda en la lista\n",
        "numero_final = pizarra[0]\n",
        "\n",
        "print(f\"El número final en la pizarra es {numero_final}\")"
      ],
      "metadata": {
        "id": "NTrJzThl1jAS",
        "colab": {
          "base_uri": "https://localhost:8080/"
        },
        "outputId": "3c571208-389a-4970-b085-8ba8bd406061"
      },
      "execution_count": 46,
      "outputs": [
        {
          "output_type": "stream",
          "name": "stdout",
          "text": [
            "37. En una pizarra están escritos los números del 1 al 100. Nos está permitido borrar dos números cualesquiera \n",
            "a y b y sustituirlos por a + b − 1. Si repetimos el proceso hasta que solo quede un número, ¿qué número quedará \n",
            "escrito en la pizarra?\n",
            "El número final en la pizarra es 4951\n"
          ]
        }
      ]
    }
  ]
}