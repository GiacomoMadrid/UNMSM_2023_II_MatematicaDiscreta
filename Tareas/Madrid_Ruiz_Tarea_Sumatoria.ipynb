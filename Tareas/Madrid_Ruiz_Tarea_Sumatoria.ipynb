{
  "nbformat": 4,
  "nbformat_minor": 0,
  "metadata": {
    "colab": {
      "provenance": []
    },
    "kernelspec": {
      "name": "python3",
      "display_name": "Python 3"
    },
    "language_info": {
      "name": "python"
    }
  },
  "cells": [
    {
      "cell_type": "markdown",
      "source": [
        "La sumatoria de los $n$ primeros números $\\sum_{i=1}^{n}x_{i}$ es dada por la fórmula $\\frac{n(n+1)}{2}$\n",
        "\n"
      ],
      "metadata": {
        "id": "-BM4T_kTJn_o"
      }
    },
    {
      "cell_type": "code",
      "execution_count": 55,
      "metadata": {
        "id": "ZExpI2rZOxHM",
        "colab": {
          "base_uri": "https://localhost:8080/"
        },
        "outputId": "58945bda-c5df-4e33-8a81-1f7b67b13f57"
      },
      "outputs": [
        {
          "output_type": "stream",
          "name": "stdout",
          "text": [
            "La suma de los 100 primeros números es: 5050\n",
            "Resultado según la fórmula: 5050\n",
            "5050 es igual a 5050\n"
          ]
        }
      ],
      "source": [
        "#Tarea 3:\n",
        "import itertools\n",
        "\n",
        "#Suma de los 100 primeros\n",
        "numero=100\n",
        "\n",
        "#Definimos una función recursiva\n",
        "def sumatoria_n_primeros(n):\n",
        "  if n!=1:\n",
        "    return (n+(sumatoria_n_primeros(n-1)))\n",
        "  else:\n",
        "    return 1\n",
        "\n",
        "def formula_1(n):\n",
        "  return(int((n*(n+1))/2))\n",
        "\n",
        "print(f\"La suma de los {numero} primeros números es: {sumatoria_n_primeros(numero)}\")\n",
        "print(f\"Resultado según la fórmula: {formula_1(numero)}\")\n",
        "\n",
        "if(formula_1(numero) == sumatoria_n_primeros(numero)):\n",
        "  print(f\"{sumatoria_n_primeros(numero)} es igual a {formula_1(numero)}\")"
      ]
    },
    {
      "cell_type": "markdown",
      "source": [
        "Probar que $\\forall n ∈ℕ$:\n",
        "\n",
        "  $1\\cdot3+2\\cdot4+3\\cdot5+...+(n)(n+2) = \\frac{(n)(n+1)(2n+7)}{6}$"
      ],
      "metadata": {
        "id": "0Y4kW5RQrs3E"
      }
    },
    {
      "cell_type": "code",
      "source": [
        "numero = 4\n",
        "def suma_de_productos(n):\n",
        "  if n!=1:\n",
        "    return(n*(n+2)+(suma_de_productos(n-1)))\n",
        "  else:\n",
        "    return n*(n+2)\n",
        "def formula(n):\n",
        "  return(int((n*(n+1)*(2*n+7))/6))\n",
        "\n",
        "print(f\"Resultado de la operación recursiva para n = {numero}: {suma_de_productos(numero)}\")\n",
        "print(f\"Resultado de la formula: {formula(numero)}\")\n",
        "\n",
        "if (formula(numero) == suma_de_productos(numero)):\n",
        "  print(f\"{suma_de_productos(numero)} es igual a {formula(numero)}\")"
      ],
      "metadata": {
        "colab": {
          "base_uri": "https://localhost:8080/"
        },
        "id": "ZzMzwVpRrqZ2",
        "outputId": "a277f401-9e6d-445a-94b2-6395fa1d2a84"
      },
      "execution_count": 56,
      "outputs": [
        {
          "output_type": "stream",
          "name": "stdout",
          "text": [
            "Resultado de la operación recursiva para n = 4: 50\n",
            "Resultado de la formula: 50\n",
            "50 es igual a 50\n"
          ]
        }
      ]
    },
    {
      "cell_type": "markdown",
      "source": [
        "Demostrar que $5+7+9+...(2n+3) = n^{2} + 4n$"
      ],
      "metadata": {
        "id": "OM0lOp5qvuJw"
      }
    },
    {
      "cell_type": "code",
      "source": [
        "numero = 10\n",
        "\n",
        "def suma_recursiva(n):\n",
        "  if n!=1:\n",
        "    return((2*n+3)+(suma_recursiva(n-1)))\n",
        "  else:\n",
        "    return (2*n+3)\n",
        "\n",
        "def formula(n):\n",
        "  return(int((n**2)+(4*n)))\n",
        "\n",
        "print(f\"Resultado de la operación recursiva para n = {numero}: {suma_recursiva(numero)}\")\n",
        "print(f\"Resultado de la formula: {formula(numero)}\")\n",
        "\n",
        "if (formula(numero) == suma_recursiva(numero)):\n",
        "  print(f\"{suma_recursiva(numero)} es igual a {formula(numero)}\")"
      ],
      "metadata": {
        "colab": {
          "base_uri": "https://localhost:8080/"
        },
        "id": "zZQbd-aTybxM",
        "outputId": "53f82b0d-1c04-4a36-b78c-a4f82fa54e14"
      },
      "execution_count": 57,
      "outputs": [
        {
          "output_type": "stream",
          "name": "stdout",
          "text": [
            "Resultado de la operación recursiva para n = 10: 140\n",
            "Resultado de la formula: 140\n",
            "140 es igual a 140\n"
          ]
        }
      ]
    },
    {
      "cell_type": "markdown",
      "source": [
        "Demostrar que $9+13+17+...(4n+5) = 2n^{2} + 7n$"
      ],
      "metadata": {
        "id": "oZZvY9kn1BCN"
      }
    },
    {
      "cell_type": "code",
      "source": [
        "numero = 10\n",
        "\n",
        "def suma_recursiva(n):\n",
        "  if n!=1:\n",
        "    return((4*n+5)+(suma_recursiva(n-1)))\n",
        "  else:\n",
        "    return (4*n+5)\n",
        "\n",
        "def formula(n):\n",
        "  return(int(2*(n**2)+(7*n)))\n",
        "\n",
        "print(f\"Resultado de la operación recursiva para n = {numero}: {suma_recursiva(numero)}\")\n",
        "print(f\"Resultado de la formula: {formula(numero)}\")\n",
        "\n",
        "if (formula(numero) == suma_recursiva(numero)):\n",
        "  print(f\"{suma_recursiva(numero)} es igual a {formula(numero)}\")"
      ],
      "metadata": {
        "colab": {
          "base_uri": "https://localhost:8080/"
        },
        "id": "M2vof0qW1P87",
        "outputId": "a20162ff-1e40-4f7c-de40-7c083f6d0ff9"
      },
      "execution_count": 58,
      "outputs": [
        {
          "output_type": "stream",
          "name": "stdout",
          "text": [
            "Resultado de la operación recursiva para n = 10: 270\n",
            "Resultado de la formula: 270\n",
            "270 es igual a 270\n"
          ]
        }
      ]
    },
    {
      "cell_type": "markdown",
      "source": [
        "Demostrar que $1+4+7+...(3n-2) = \\frac{n(3n-1)}{2}$"
      ],
      "metadata": {
        "id": "Me58SfAP1ipa"
      }
    },
    {
      "cell_type": "code",
      "source": [
        "numero = 10\n",
        "\n",
        "def suma_recursiva(n):\n",
        "  if n!=1:\n",
        "    return((3*n-2)+(suma_recursiva(n-1)))\n",
        "  else:\n",
        "    return (3*n-2)\n",
        "\n",
        "def formula(n):\n",
        "  return(int((n*(3*n-1))/2))\n",
        "\n",
        "print(f\"Resultado de la operación recursiva para n = {numero}: {suma_recursiva(numero)}\")\n",
        "print(f\"Resultado de la formula: {formula(numero)}\")\n",
        "\n",
        "if (formula(numero) == suma_recursiva(numero)):\n",
        "  print(f\"{suma_recursiva(numero)} es igual a {formula(numero)}\")"
      ],
      "metadata": {
        "colab": {
          "base_uri": "https://localhost:8080/"
        },
        "id": "TYKNYpcF2Ki8",
        "outputId": "82f2b1ab-5ccf-4ac7-a499-0b13062358c1"
      },
      "execution_count": 59,
      "outputs": [
        {
          "output_type": "stream",
          "name": "stdout",
          "text": [
            "Resultado de la operación recursiva para n = 10: 145\n",
            "Resultado de la formula: 145\n",
            "145 es igual a 145\n"
          ]
        }
      ]
    },
    {
      "cell_type": "markdown",
      "source": [
        "Demostrar que $5+4+3+...(6n-1) = \\frac{n(11-n)}{2}$"
      ],
      "metadata": {
        "id": "8tEAHau42gQt"
      }
    },
    {
      "cell_type": "code",
      "source": [
        "numero = 20\n",
        "\n",
        "def suma_recursiva(n):\n",
        "  if n!=1:\n",
        "    return((6-n)+(suma_recursiva(n-1)))\n",
        "  else:\n",
        "    return (6-n)\n",
        "\n",
        "def formula(n):\n",
        "  return(int((n*(11-n))/2))\n",
        "\n",
        "print(f\"Resultado de la operación recursiva para n = {numero}: {suma_recursiva(numero)}\")\n",
        "print(f\"Resultado de la formula: {formula(numero)}\")\n",
        "\n",
        "if (formula(numero) == suma_recursiva(numero)):\n",
        "  print(f\"{suma_recursiva(numero)} es igual a {formula(numero)}\")"
      ],
      "metadata": {
        "colab": {
          "base_uri": "https://localhost:8080/"
        },
        "id": "_D27nxI23xZt",
        "outputId": "32d8b6ba-fb62-4bb3-f2d4-03fa1db3c3ad"
      },
      "execution_count": 60,
      "outputs": [
        {
          "output_type": "stream",
          "name": "stdout",
          "text": [
            "Resultado de la operación recursiva para n = 20: -90\n",
            "Resultado de la formula: -90\n",
            "-90 es igual a -90\n"
          ]
        }
      ]
    },
    {
      "cell_type": "markdown",
      "source": [
        "Demostrar que $3+1-1+...(5-2n) = 4n+n^{2}$\n",
        "\n"
      ],
      "metadata": {
        "id": "YiWd3bzB62WN"
      }
    },
    {
      "cell_type": "code",
      "source": [
        "numero = 20\n",
        "\n",
        "def suma_recursiva(n):\n",
        "  if n!=1:\n",
        "    return((5-2*n)+(suma_recursiva(n-1)))\n",
        "  else:\n",
        "    return (5-2*n)\n",
        "\n",
        "def formula(n):\n",
        "  return(int((4*n)-(n**2)))\n",
        "\n",
        "print(f\"Resultado de la operación recursiva para n = {numero}: {suma_recursiva(numero)}\")\n",
        "print(f\"Resultado de la formula: {formula(numero)}\")\n",
        "\n",
        "if (formula(numero) == suma_recursiva(numero)):\n",
        "  print(f\"{suma_recursiva(numero)} es igual a {formula(numero)}\")"
      ],
      "metadata": {
        "colab": {
          "base_uri": "https://localhost:8080/"
        },
        "id": "jR6yr89k7TDp",
        "outputId": "c8b73542-d2d4-4b7e-a014-16823fd3b002"
      },
      "execution_count": 61,
      "outputs": [
        {
          "output_type": "stream",
          "name": "stdout",
          "text": [
            "Resultado de la operación recursiva para n = 20: -320\n",
            "Resultado de la formula: -320\n",
            "-320 es igual a -320\n"
          ]
        }
      ]
    }
  ]
}